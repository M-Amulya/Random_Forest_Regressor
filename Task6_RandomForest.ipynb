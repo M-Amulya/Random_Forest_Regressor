{
 "cells": [
  {
   "cell_type": "markdown",
   "metadata": {
    "id": "jw1vwszHOCQQ"
   },
   "source": [
    "##**Random Forest Regressor**"
   ]
  },
  {
   "cell_type": "code",
   "execution_count": 1,
   "metadata": {
    "colab": {
     "base_uri": "https://localhost:8080/",
     "height": 299
    },
    "id": "YnT4B_HNOMjt",
    "outputId": "141a374b-89a7-4b7c-92aa-a122b83eb5ce"
   },
   "outputs": [
    {
     "data": {
      "text/html": [
       "<div>\n",
       "<style scoped>\n",
       "    .dataframe tbody tr th:only-of-type {\n",
       "        vertical-align: middle;\n",
       "    }\n",
       "\n",
       "    .dataframe tbody tr th {\n",
       "        vertical-align: top;\n",
       "    }\n",
       "\n",
       "    .dataframe thead th {\n",
       "        text-align: right;\n",
       "    }\n",
       "</style>\n",
       "<table border=\"1\" class=\"dataframe\">\n",
       "  <thead>\n",
       "    <tr style=\"text-align: right;\">\n",
       "      <th></th>\n",
       "      <th>campaign_id</th>\n",
       "      <th>sender</th>\n",
       "      <th>subject_len</th>\n",
       "      <th>body_len</th>\n",
       "      <th>mean_paragraph_len</th>\n",
       "      <th>day_of_week</th>\n",
       "      <th>is_weekend</th>\n",
       "      <th>times_of_day</th>\n",
       "      <th>category</th>\n",
       "      <th>product</th>\n",
       "      <th>...</th>\n",
       "      <th>is_image</th>\n",
       "      <th>is_personalised</th>\n",
       "      <th>is_quote</th>\n",
       "      <th>is_timer</th>\n",
       "      <th>is_emoticons</th>\n",
       "      <th>is_discount</th>\n",
       "      <th>is_price</th>\n",
       "      <th>is_urgency</th>\n",
       "      <th>target_audience</th>\n",
       "      <th>click_rate</th>\n",
       "    </tr>\n",
       "  </thead>\n",
       "  <tbody>\n",
       "    <tr>\n",
       "      <th>0</th>\n",
       "      <td>1</td>\n",
       "      <td>3</td>\n",
       "      <td>76</td>\n",
       "      <td>10439</td>\n",
       "      <td>39</td>\n",
       "      <td>5</td>\n",
       "      <td>1</td>\n",
       "      <td>Noon</td>\n",
       "      <td>6</td>\n",
       "      <td>26</td>\n",
       "      <td>...</td>\n",
       "      <td>0</td>\n",
       "      <td>0</td>\n",
       "      <td>0</td>\n",
       "      <td>0</td>\n",
       "      <td>0</td>\n",
       "      <td>0</td>\n",
       "      <td>0</td>\n",
       "      <td>0</td>\n",
       "      <td>14</td>\n",
       "      <td>0.103079</td>\n",
       "    </tr>\n",
       "    <tr>\n",
       "      <th>1</th>\n",
       "      <td>2</td>\n",
       "      <td>3</td>\n",
       "      <td>54</td>\n",
       "      <td>2570</td>\n",
       "      <td>256</td>\n",
       "      <td>5</td>\n",
       "      <td>1</td>\n",
       "      <td>Morning</td>\n",
       "      <td>2</td>\n",
       "      <td>11</td>\n",
       "      <td>...</td>\n",
       "      <td>0</td>\n",
       "      <td>0</td>\n",
       "      <td>0</td>\n",
       "      <td>0</td>\n",
       "      <td>0</td>\n",
       "      <td>0</td>\n",
       "      <td>0</td>\n",
       "      <td>0</td>\n",
       "      <td>10</td>\n",
       "      <td>0.700000</td>\n",
       "    </tr>\n",
       "    <tr>\n",
       "      <th>2</th>\n",
       "      <td>3</td>\n",
       "      <td>3</td>\n",
       "      <td>59</td>\n",
       "      <td>12801</td>\n",
       "      <td>16</td>\n",
       "      <td>5</td>\n",
       "      <td>1</td>\n",
       "      <td>Noon</td>\n",
       "      <td>2</td>\n",
       "      <td>11</td>\n",
       "      <td>...</td>\n",
       "      <td>1</td>\n",
       "      <td>0</td>\n",
       "      <td>1</td>\n",
       "      <td>0</td>\n",
       "      <td>0</td>\n",
       "      <td>0</td>\n",
       "      <td>0</td>\n",
       "      <td>0</td>\n",
       "      <td>16</td>\n",
       "      <td>0.002769</td>\n",
       "    </tr>\n",
       "    <tr>\n",
       "      <th>3</th>\n",
       "      <td>4</td>\n",
       "      <td>3</td>\n",
       "      <td>74</td>\n",
       "      <td>11037</td>\n",
       "      <td>30</td>\n",
       "      <td>4</td>\n",
       "      <td>0</td>\n",
       "      <td>Evening</td>\n",
       "      <td>15</td>\n",
       "      <td>9</td>\n",
       "      <td>...</td>\n",
       "      <td>0</td>\n",
       "      <td>0</td>\n",
       "      <td>0</td>\n",
       "      <td>0</td>\n",
       "      <td>0</td>\n",
       "      <td>0</td>\n",
       "      <td>0</td>\n",
       "      <td>0</td>\n",
       "      <td>10</td>\n",
       "      <td>0.010868</td>\n",
       "    </tr>\n",
       "    <tr>\n",
       "      <th>4</th>\n",
       "      <td>5</td>\n",
       "      <td>3</td>\n",
       "      <td>80</td>\n",
       "      <td>10011</td>\n",
       "      <td>27</td>\n",
       "      <td>5</td>\n",
       "      <td>1</td>\n",
       "      <td>Noon</td>\n",
       "      <td>6</td>\n",
       "      <td>26</td>\n",
       "      <td>...</td>\n",
       "      <td>0</td>\n",
       "      <td>0</td>\n",
       "      <td>1</td>\n",
       "      <td>0</td>\n",
       "      <td>0</td>\n",
       "      <td>0</td>\n",
       "      <td>0</td>\n",
       "      <td>0</td>\n",
       "      <td>14</td>\n",
       "      <td>0.142826</td>\n",
       "    </tr>\n",
       "  </tbody>\n",
       "</table>\n",
       "<p>5 rows × 22 columns</p>\n",
       "</div>"
      ],
      "text/plain": [
       "   campaign_id  sender  subject_len  body_len  mean_paragraph_len  \\\n",
       "0            1       3           76     10439                  39   \n",
       "1            2       3           54      2570                 256   \n",
       "2            3       3           59     12801                  16   \n",
       "3            4       3           74     11037                  30   \n",
       "4            5       3           80     10011                  27   \n",
       "\n",
       "   day_of_week  is_weekend times_of_day  category  product  ...  is_image  \\\n",
       "0            5           1         Noon         6       26  ...         0   \n",
       "1            5           1      Morning         2       11  ...         0   \n",
       "2            5           1         Noon         2       11  ...         1   \n",
       "3            4           0      Evening        15        9  ...         0   \n",
       "4            5           1         Noon         6       26  ...         0   \n",
       "\n",
       "   is_personalised  is_quote  is_timer  is_emoticons  is_discount  is_price  \\\n",
       "0                0         0         0             0            0         0   \n",
       "1                0         0         0             0            0         0   \n",
       "2                0         1         0             0            0         0   \n",
       "3                0         0         0             0            0         0   \n",
       "4                0         1         0             0            0         0   \n",
       "\n",
       "   is_urgency  target_audience  click_rate  \n",
       "0           0               14    0.103079  \n",
       "1           0               10    0.700000  \n",
       "2           0               16    0.002769  \n",
       "3           0               10    0.010868  \n",
       "4           0               14    0.142826  \n",
       "\n",
       "[5 rows x 22 columns]"
      ]
     },
     "execution_count": 1,
     "metadata": {},
     "output_type": "execute_result"
    }
   ],
   "source": [
    "#load data\n",
    "import pandas as pd\n",
    "df=pd.read_csv('Campaign_data_statistics_section_1.csv')\n",
    "df.head()"
   ]
  },
  {
   "cell_type": "code",
   "execution_count": 2,
   "metadata": {
    "colab": {
     "base_uri": "https://localhost:8080/"
    },
    "id": "s0YJkvaAOZzs",
    "outputId": "cfba38ef-672b-4a9b-b2aa-b2b77c9fcc96"
   },
   "outputs": [
    {
     "data": {
      "text/plain": [
       "(1888, 22)"
      ]
     },
     "execution_count": 2,
     "metadata": {},
     "output_type": "execute_result"
    }
   ],
   "source": [
    "df.shape"
   ]
  },
  {
   "cell_type": "code",
   "execution_count": 3,
   "metadata": {
    "colab": {
     "base_uri": "https://localhost:8080/"
    },
    "id": "opCOl9Y7ewJh",
    "outputId": "2ad08e8b-2cd0-4074-96df-dbcde49f8c8c"
   },
   "outputs": [
    {
     "name": "stdout",
     "output_type": "stream",
     "text": [
      "<class 'pandas.core.frame.DataFrame'>\n",
      "RangeIndex: 1888 entries, 0 to 1887\n",
      "Data columns (total 22 columns):\n",
      " #   Column              Non-Null Count  Dtype  \n",
      "---  ------              --------------  -----  \n",
      " 0   campaign_id         1888 non-null   int64  \n",
      " 1   sender              1888 non-null   int64  \n",
      " 2   subject_len         1888 non-null   int64  \n",
      " 3   body_len            1888 non-null   int64  \n",
      " 4   mean_paragraph_len  1888 non-null   int64  \n",
      " 5   day_of_week         1888 non-null   int64  \n",
      " 6   is_weekend          1888 non-null   int64  \n",
      " 7   times_of_day        1888 non-null   object \n",
      " 8   category            1888 non-null   int64  \n",
      " 9   product             1888 non-null   int64  \n",
      " 10  no_of_CTA           1888 non-null   int64  \n",
      " 11  mean_CTA_len        1888 non-null   int64  \n",
      " 12  is_image            1888 non-null   int64  \n",
      " 13  is_personalised     1888 non-null   int64  \n",
      " 14  is_quote            1888 non-null   int64  \n",
      " 15  is_timer            1888 non-null   int64  \n",
      " 16  is_emoticons        1888 non-null   int64  \n",
      " 17  is_discount         1888 non-null   int64  \n",
      " 18  is_price            1888 non-null   int64  \n",
      " 19  is_urgency          1888 non-null   int64  \n",
      " 20  target_audience     1888 non-null   int64  \n",
      " 21  click_rate          1888 non-null   float64\n",
      "dtypes: float64(1), int64(20), object(1)\n",
      "memory usage: 324.6+ KB\n"
     ]
    }
   ],
   "source": [
    "df.info()"
   ]
  },
  {
   "cell_type": "code",
   "execution_count": 4,
   "metadata": {
    "colab": {
     "base_uri": "https://localhost:8080/",
     "height": 393
    },
    "id": "Rge35tJce2FH",
    "outputId": "35e6089b-6d10-4f2f-c2e7-aee6284d6bbc"
   },
   "outputs": [
    {
     "data": {
      "text/html": [
       "<div>\n",
       "<style scoped>\n",
       "    .dataframe tbody tr th:only-of-type {\n",
       "        vertical-align: middle;\n",
       "    }\n",
       "\n",
       "    .dataframe tbody tr th {\n",
       "        vertical-align: top;\n",
       "    }\n",
       "\n",
       "    .dataframe thead th {\n",
       "        text-align: right;\n",
       "    }\n",
       "</style>\n",
       "<table border=\"1\" class=\"dataframe\">\n",
       "  <thead>\n",
       "    <tr style=\"text-align: right;\">\n",
       "      <th></th>\n",
       "      <th>campaign_id</th>\n",
       "      <th>sender</th>\n",
       "      <th>subject_len</th>\n",
       "      <th>body_len</th>\n",
       "      <th>mean_paragraph_len</th>\n",
       "      <th>day_of_week</th>\n",
       "      <th>is_weekend</th>\n",
       "      <th>category</th>\n",
       "      <th>product</th>\n",
       "      <th>no_of_CTA</th>\n",
       "      <th>...</th>\n",
       "      <th>is_image</th>\n",
       "      <th>is_personalised</th>\n",
       "      <th>is_quote</th>\n",
       "      <th>is_timer</th>\n",
       "      <th>is_emoticons</th>\n",
       "      <th>is_discount</th>\n",
       "      <th>is_price</th>\n",
       "      <th>is_urgency</th>\n",
       "      <th>target_audience</th>\n",
       "      <th>click_rate</th>\n",
       "    </tr>\n",
       "  </thead>\n",
       "  <tbody>\n",
       "    <tr>\n",
       "      <th>count</th>\n",
       "      <td>1888.000000</td>\n",
       "      <td>1888.000000</td>\n",
       "      <td>1888.000000</td>\n",
       "      <td>1888.000000</td>\n",
       "      <td>1888.000000</td>\n",
       "      <td>1888.000000</td>\n",
       "      <td>1888.000000</td>\n",
       "      <td>1888.000000</td>\n",
       "      <td>1888.000000</td>\n",
       "      <td>1888.000000</td>\n",
       "      <td>...</td>\n",
       "      <td>1888.000000</td>\n",
       "      <td>1888.000000</td>\n",
       "      <td>1888.000000</td>\n",
       "      <td>1888.0</td>\n",
       "      <td>1888.000000</td>\n",
       "      <td>1888.000000</td>\n",
       "      <td>1888.000000</td>\n",
       "      <td>1888.000000</td>\n",
       "      <td>1888.000000</td>\n",
       "      <td>1888.000000</td>\n",
       "    </tr>\n",
       "    <tr>\n",
       "      <th>mean</th>\n",
       "      <td>944.500000</td>\n",
       "      <td>4.395657</td>\n",
       "      <td>86.246292</td>\n",
       "      <td>14185.780191</td>\n",
       "      <td>35.239407</td>\n",
       "      <td>2.828390</td>\n",
       "      <td>0.199682</td>\n",
       "      <td>9.949682</td>\n",
       "      <td>17.525424</td>\n",
       "      <td>4.222458</td>\n",
       "      <td>...</td>\n",
       "      <td>0.909958</td>\n",
       "      <td>0.056674</td>\n",
       "      <td>0.834216</td>\n",
       "      <td>0.0</td>\n",
       "      <td>0.210805</td>\n",
       "      <td>0.039725</td>\n",
       "      <td>40.197034</td>\n",
       "      <td>0.112288</td>\n",
       "      <td>11.634534</td>\n",
       "      <td>0.041888</td>\n",
       "    </tr>\n",
       "    <tr>\n",
       "      <th>std</th>\n",
       "      <td>545.162973</td>\n",
       "      <td>3.277927</td>\n",
       "      <td>30.143206</td>\n",
       "      <td>7327.615307</td>\n",
       "      <td>28.139498</td>\n",
       "      <td>1.763193</td>\n",
       "      <td>0.399867</td>\n",
       "      <td>5.300719</td>\n",
       "      <td>12.369526</td>\n",
       "      <td>4.628348</td>\n",
       "      <td>...</td>\n",
       "      <td>0.866467</td>\n",
       "      <td>0.231279</td>\n",
       "      <td>1.033901</td>\n",
       "      <td>0.0</td>\n",
       "      <td>0.613442</td>\n",
       "      <td>0.195363</td>\n",
       "      <td>553.957470</td>\n",
       "      <td>0.315804</td>\n",
       "      <td>2.949121</td>\n",
       "      <td>0.084223</td>\n",
       "    </tr>\n",
       "    <tr>\n",
       "      <th>min</th>\n",
       "      <td>1.000000</td>\n",
       "      <td>0.000000</td>\n",
       "      <td>9.000000</td>\n",
       "      <td>23.000000</td>\n",
       "      <td>4.000000</td>\n",
       "      <td>0.000000</td>\n",
       "      <td>0.000000</td>\n",
       "      <td>0.000000</td>\n",
       "      <td>0.000000</td>\n",
       "      <td>0.000000</td>\n",
       "      <td>...</td>\n",
       "      <td>0.000000</td>\n",
       "      <td>0.000000</td>\n",
       "      <td>0.000000</td>\n",
       "      <td>0.0</td>\n",
       "      <td>0.000000</td>\n",
       "      <td>0.000000</td>\n",
       "      <td>0.000000</td>\n",
       "      <td>0.000000</td>\n",
       "      <td>0.000000</td>\n",
       "      <td>0.000000</td>\n",
       "    </tr>\n",
       "    <tr>\n",
       "      <th>25%</th>\n",
       "      <td>472.750000</td>\n",
       "      <td>3.000000</td>\n",
       "      <td>69.000000</td>\n",
       "      <td>9554.500000</td>\n",
       "      <td>21.000000</td>\n",
       "      <td>1.000000</td>\n",
       "      <td>0.000000</td>\n",
       "      <td>6.000000</td>\n",
       "      <td>9.000000</td>\n",
       "      <td>2.000000</td>\n",
       "      <td>...</td>\n",
       "      <td>0.000000</td>\n",
       "      <td>0.000000</td>\n",
       "      <td>0.000000</td>\n",
       "      <td>0.0</td>\n",
       "      <td>0.000000</td>\n",
       "      <td>0.000000</td>\n",
       "      <td>0.000000</td>\n",
       "      <td>0.000000</td>\n",
       "      <td>12.000000</td>\n",
       "      <td>0.005413</td>\n",
       "    </tr>\n",
       "    <tr>\n",
       "      <th>50%</th>\n",
       "      <td>944.500000</td>\n",
       "      <td>3.000000</td>\n",
       "      <td>83.000000</td>\n",
       "      <td>12689.000000</td>\n",
       "      <td>29.000000</td>\n",
       "      <td>3.000000</td>\n",
       "      <td>0.000000</td>\n",
       "      <td>10.000000</td>\n",
       "      <td>12.000000</td>\n",
       "      <td>3.000000</td>\n",
       "      <td>...</td>\n",
       "      <td>1.000000</td>\n",
       "      <td>0.000000</td>\n",
       "      <td>1.000000</td>\n",
       "      <td>0.0</td>\n",
       "      <td>0.000000</td>\n",
       "      <td>0.000000</td>\n",
       "      <td>0.000000</td>\n",
       "      <td>0.000000</td>\n",
       "      <td>12.000000</td>\n",
       "      <td>0.010686</td>\n",
       "    </tr>\n",
       "    <tr>\n",
       "      <th>75%</th>\n",
       "      <td>1416.250000</td>\n",
       "      <td>3.000000</td>\n",
       "      <td>98.000000</td>\n",
       "      <td>17351.500000</td>\n",
       "      <td>40.000000</td>\n",
       "      <td>4.000000</td>\n",
       "      <td>0.000000</td>\n",
       "      <td>15.000000</td>\n",
       "      <td>27.250000</td>\n",
       "      <td>5.000000</td>\n",
       "      <td>...</td>\n",
       "      <td>2.000000</td>\n",
       "      <td>0.000000</td>\n",
       "      <td>1.000000</td>\n",
       "      <td>0.0</td>\n",
       "      <td>0.000000</td>\n",
       "      <td>0.000000</td>\n",
       "      <td>0.000000</td>\n",
       "      <td>0.000000</td>\n",
       "      <td>12.000000</td>\n",
       "      <td>0.035589</td>\n",
       "    </tr>\n",
       "    <tr>\n",
       "      <th>max</th>\n",
       "      <td>1888.000000</td>\n",
       "      <td>15.000000</td>\n",
       "      <td>265.000000</td>\n",
       "      <td>44491.000000</td>\n",
       "      <td>286.000000</td>\n",
       "      <td>6.000000</td>\n",
       "      <td>1.000000</td>\n",
       "      <td>15.000000</td>\n",
       "      <td>43.000000</td>\n",
       "      <td>49.000000</td>\n",
       "      <td>...</td>\n",
       "      <td>6.000000</td>\n",
       "      <td>1.000000</td>\n",
       "      <td>6.000000</td>\n",
       "      <td>0.0</td>\n",
       "      <td>6.000000</td>\n",
       "      <td>1.000000</td>\n",
       "      <td>14999.000000</td>\n",
       "      <td>1.000000</td>\n",
       "      <td>16.000000</td>\n",
       "      <td>0.897959</td>\n",
       "    </tr>\n",
       "  </tbody>\n",
       "</table>\n",
       "<p>8 rows × 21 columns</p>\n",
       "</div>"
      ],
      "text/plain": [
       "       campaign_id       sender  subject_len      body_len  \\\n",
       "count  1888.000000  1888.000000  1888.000000   1888.000000   \n",
       "mean    944.500000     4.395657    86.246292  14185.780191   \n",
       "std     545.162973     3.277927    30.143206   7327.615307   \n",
       "min       1.000000     0.000000     9.000000     23.000000   \n",
       "25%     472.750000     3.000000    69.000000   9554.500000   \n",
       "50%     944.500000     3.000000    83.000000  12689.000000   \n",
       "75%    1416.250000     3.000000    98.000000  17351.500000   \n",
       "max    1888.000000    15.000000   265.000000  44491.000000   \n",
       "\n",
       "       mean_paragraph_len  day_of_week   is_weekend     category      product  \\\n",
       "count         1888.000000  1888.000000  1888.000000  1888.000000  1888.000000   \n",
       "mean            35.239407     2.828390     0.199682     9.949682    17.525424   \n",
       "std             28.139498     1.763193     0.399867     5.300719    12.369526   \n",
       "min              4.000000     0.000000     0.000000     0.000000     0.000000   \n",
       "25%             21.000000     1.000000     0.000000     6.000000     9.000000   \n",
       "50%             29.000000     3.000000     0.000000    10.000000    12.000000   \n",
       "75%             40.000000     4.000000     0.000000    15.000000    27.250000   \n",
       "max            286.000000     6.000000     1.000000    15.000000    43.000000   \n",
       "\n",
       "         no_of_CTA  ...     is_image  is_personalised     is_quote  is_timer  \\\n",
       "count  1888.000000  ...  1888.000000      1888.000000  1888.000000    1888.0   \n",
       "mean      4.222458  ...     0.909958         0.056674     0.834216       0.0   \n",
       "std       4.628348  ...     0.866467         0.231279     1.033901       0.0   \n",
       "min       0.000000  ...     0.000000         0.000000     0.000000       0.0   \n",
       "25%       2.000000  ...     0.000000         0.000000     0.000000       0.0   \n",
       "50%       3.000000  ...     1.000000         0.000000     1.000000       0.0   \n",
       "75%       5.000000  ...     2.000000         0.000000     1.000000       0.0   \n",
       "max      49.000000  ...     6.000000         1.000000     6.000000       0.0   \n",
       "\n",
       "       is_emoticons  is_discount      is_price   is_urgency  target_audience  \\\n",
       "count   1888.000000  1888.000000   1888.000000  1888.000000      1888.000000   \n",
       "mean       0.210805     0.039725     40.197034     0.112288        11.634534   \n",
       "std        0.613442     0.195363    553.957470     0.315804         2.949121   \n",
       "min        0.000000     0.000000      0.000000     0.000000         0.000000   \n",
       "25%        0.000000     0.000000      0.000000     0.000000        12.000000   \n",
       "50%        0.000000     0.000000      0.000000     0.000000        12.000000   \n",
       "75%        0.000000     0.000000      0.000000     0.000000        12.000000   \n",
       "max        6.000000     1.000000  14999.000000     1.000000        16.000000   \n",
       "\n",
       "        click_rate  \n",
       "count  1888.000000  \n",
       "mean      0.041888  \n",
       "std       0.084223  \n",
       "min       0.000000  \n",
       "25%       0.005413  \n",
       "50%       0.010686  \n",
       "75%       0.035589  \n",
       "max       0.897959  \n",
       "\n",
       "[8 rows x 21 columns]"
      ]
     },
     "execution_count": 4,
     "metadata": {},
     "output_type": "execute_result"
    }
   ],
   "source": [
    "df.describe()"
   ]
  },
  {
   "cell_type": "code",
   "execution_count": 5,
   "metadata": {
    "colab": {
     "base_uri": "https://localhost:8080/"
    },
    "id": "bsqH2Zale-P4",
    "outputId": "18c20675-c04b-4e5b-fb03-5e3c48097261"
   },
   "outputs": [
    {
     "data": {
      "text/plain": [
       "0"
      ]
     },
     "execution_count": 5,
     "metadata": {},
     "output_type": "execute_result"
    }
   ],
   "source": [
    "df.duplicated().sum()"
   ]
  },
  {
   "cell_type": "code",
   "execution_count": 6,
   "metadata": {
    "colab": {
     "base_uri": "https://localhost:8080/",
     "height": 836
    },
    "id": "HrWxBpA6fHPE",
    "outputId": "b593a917-4556-44f8-9e22-1cea48e26e69"
   },
   "outputs": [
    {
     "data": {
      "text/html": [
       "<div>\n",
       "<style scoped>\n",
       "    .dataframe tbody tr th:only-of-type {\n",
       "        vertical-align: middle;\n",
       "    }\n",
       "\n",
       "    .dataframe tbody tr th {\n",
       "        vertical-align: top;\n",
       "    }\n",
       "\n",
       "    .dataframe thead th {\n",
       "        text-align: right;\n",
       "    }\n",
       "</style>\n",
       "<table border=\"1\" class=\"dataframe\">\n",
       "  <thead>\n",
       "    <tr style=\"text-align: right;\">\n",
       "      <th></th>\n",
       "      <th>campaign_id</th>\n",
       "      <th>sender</th>\n",
       "      <th>subject_len</th>\n",
       "      <th>body_len</th>\n",
       "      <th>mean_paragraph_len</th>\n",
       "      <th>day_of_week</th>\n",
       "      <th>is_weekend</th>\n",
       "      <th>category</th>\n",
       "      <th>product</th>\n",
       "      <th>no_of_CTA</th>\n",
       "      <th>...</th>\n",
       "      <th>is_image</th>\n",
       "      <th>is_personalised</th>\n",
       "      <th>is_quote</th>\n",
       "      <th>is_timer</th>\n",
       "      <th>is_emoticons</th>\n",
       "      <th>is_discount</th>\n",
       "      <th>is_price</th>\n",
       "      <th>is_urgency</th>\n",
       "      <th>target_audience</th>\n",
       "      <th>click_rate</th>\n",
       "    </tr>\n",
       "  </thead>\n",
       "  <tbody>\n",
       "    <tr>\n",
       "      <th>campaign_id</th>\n",
       "      <td>1.000000</td>\n",
       "      <td>0.443314</td>\n",
       "      <td>-0.052252</td>\n",
       "      <td>0.200128</td>\n",
       "      <td>0.028225</td>\n",
       "      <td>0.036410</td>\n",
       "      <td>0.051932</td>\n",
       "      <td>0.289416</td>\n",
       "      <td>0.209435</td>\n",
       "      <td>0.117558</td>\n",
       "      <td>...</td>\n",
       "      <td>-0.022799</td>\n",
       "      <td>0.219755</td>\n",
       "      <td>-0.006662</td>\n",
       "      <td>NaN</td>\n",
       "      <td>-0.128840</td>\n",
       "      <td>-0.002232</td>\n",
       "      <td>-0.041955</td>\n",
       "      <td>-0.058105</td>\n",
       "      <td>-0.104905</td>\n",
       "      <td>0.053315</td>\n",
       "    </tr>\n",
       "    <tr>\n",
       "      <th>sender</th>\n",
       "      <td>0.443314</td>\n",
       "      <td>1.000000</td>\n",
       "      <td>-0.102559</td>\n",
       "      <td>0.197929</td>\n",
       "      <td>0.056891</td>\n",
       "      <td>-0.046928</td>\n",
       "      <td>-0.059499</td>\n",
       "      <td>0.188444</td>\n",
       "      <td>0.070689</td>\n",
       "      <td>0.100454</td>\n",
       "      <td>...</td>\n",
       "      <td>-0.093244</td>\n",
       "      <td>0.147959</td>\n",
       "      <td>0.020928</td>\n",
       "      <td>NaN</td>\n",
       "      <td>-0.105279</td>\n",
       "      <td>-0.046900</td>\n",
       "      <td>0.024099</td>\n",
       "      <td>-0.071096</td>\n",
       "      <td>-0.132554</td>\n",
       "      <td>-0.031398</td>\n",
       "    </tr>\n",
       "    <tr>\n",
       "      <th>subject_len</th>\n",
       "      <td>-0.052252</td>\n",
       "      <td>-0.102559</td>\n",
       "      <td>1.000000</td>\n",
       "      <td>0.427326</td>\n",
       "      <td>-0.224770</td>\n",
       "      <td>-0.033574</td>\n",
       "      <td>-0.056666</td>\n",
       "      <td>0.012601</td>\n",
       "      <td>-0.007108</td>\n",
       "      <td>0.400213</td>\n",
       "      <td>...</td>\n",
       "      <td>-0.002214</td>\n",
       "      <td>-0.293446</td>\n",
       "      <td>0.120273</td>\n",
       "      <td>NaN</td>\n",
       "      <td>0.080303</td>\n",
       "      <td>0.125134</td>\n",
       "      <td>0.033410</td>\n",
       "      <td>0.100584</td>\n",
       "      <td>-0.021855</td>\n",
       "      <td>-0.180143</td>\n",
       "    </tr>\n",
       "    <tr>\n",
       "      <th>body_len</th>\n",
       "      <td>0.200128</td>\n",
       "      <td>0.197929</td>\n",
       "      <td>0.427326</td>\n",
       "      <td>1.000000</td>\n",
       "      <td>-0.496146</td>\n",
       "      <td>-0.089146</td>\n",
       "      <td>-0.079255</td>\n",
       "      <td>0.026781</td>\n",
       "      <td>-0.027747</td>\n",
       "      <td>0.559353</td>\n",
       "      <td>...</td>\n",
       "      <td>-0.021254</td>\n",
       "      <td>-0.220696</td>\n",
       "      <td>0.184035</td>\n",
       "      <td>NaN</td>\n",
       "      <td>-0.043931</td>\n",
       "      <td>0.051123</td>\n",
       "      <td>0.022431</td>\n",
       "      <td>0.023734</td>\n",
       "      <td>-0.075754</td>\n",
       "      <td>-0.247866</td>\n",
       "    </tr>\n",
       "    <tr>\n",
       "      <th>mean_paragraph_len</th>\n",
       "      <td>0.028225</td>\n",
       "      <td>0.056891</td>\n",
       "      <td>-0.224770</td>\n",
       "      <td>-0.496146</td>\n",
       "      <td>1.000000</td>\n",
       "      <td>0.003221</td>\n",
       "      <td>-0.012964</td>\n",
       "      <td>0.037475</td>\n",
       "      <td>-0.054066</td>\n",
       "      <td>-0.170012</td>\n",
       "      <td>...</td>\n",
       "      <td>-0.091250</td>\n",
       "      <td>0.162480</td>\n",
       "      <td>-0.096086</td>\n",
       "      <td>NaN</td>\n",
       "      <td>-0.043173</td>\n",
       "      <td>-0.032096</td>\n",
       "      <td>0.006765</td>\n",
       "      <td>-0.037435</td>\n",
       "      <td>-0.110896</td>\n",
       "      <td>0.178042</td>\n",
       "    </tr>\n",
       "    <tr>\n",
       "      <th>day_of_week</th>\n",
       "      <td>0.036410</td>\n",
       "      <td>-0.046928</td>\n",
       "      <td>-0.033574</td>\n",
       "      <td>-0.089146</td>\n",
       "      <td>0.003221</td>\n",
       "      <td>1.000000</td>\n",
       "      <td>0.720599</td>\n",
       "      <td>-0.058760</td>\n",
       "      <td>0.000249</td>\n",
       "      <td>-0.037789</td>\n",
       "      <td>...</td>\n",
       "      <td>0.019365</td>\n",
       "      <td>-0.069705</td>\n",
       "      <td>-0.032476</td>\n",
       "      <td>NaN</td>\n",
       "      <td>-0.013571</td>\n",
       "      <td>-0.037122</td>\n",
       "      <td>-0.013822</td>\n",
       "      <td>0.012735</td>\n",
       "      <td>0.081693</td>\n",
       "      <td>0.086372</td>\n",
       "    </tr>\n",
       "    <tr>\n",
       "      <th>is_weekend</th>\n",
       "      <td>0.051932</td>\n",
       "      <td>-0.059499</td>\n",
       "      <td>-0.056666</td>\n",
       "      <td>-0.079255</td>\n",
       "      <td>-0.012964</td>\n",
       "      <td>0.720599</td>\n",
       "      <td>1.000000</td>\n",
       "      <td>-0.063763</td>\n",
       "      <td>-0.015759</td>\n",
       "      <td>-0.033464</td>\n",
       "      <td>...</td>\n",
       "      <td>0.036626</td>\n",
       "      <td>-0.065130</td>\n",
       "      <td>-0.033968</td>\n",
       "      <td>NaN</td>\n",
       "      <td>-0.007504</td>\n",
       "      <td>-0.033757</td>\n",
       "      <td>-0.036255</td>\n",
       "      <td>-0.009789</td>\n",
       "      <td>0.046638</td>\n",
       "      <td>0.114138</td>\n",
       "    </tr>\n",
       "    <tr>\n",
       "      <th>category</th>\n",
       "      <td>0.289416</td>\n",
       "      <td>0.188444</td>\n",
       "      <td>0.012601</td>\n",
       "      <td>0.026781</td>\n",
       "      <td>0.037475</td>\n",
       "      <td>-0.058760</td>\n",
       "      <td>-0.063763</td>\n",
       "      <td>1.000000</td>\n",
       "      <td>0.007144</td>\n",
       "      <td>-0.023931</td>\n",
       "      <td>...</td>\n",
       "      <td>-0.028794</td>\n",
       "      <td>0.132441</td>\n",
       "      <td>-0.101411</td>\n",
       "      <td>NaN</td>\n",
       "      <td>0.100071</td>\n",
       "      <td>0.166200</td>\n",
       "      <td>0.068450</td>\n",
       "      <td>0.189839</td>\n",
       "      <td>-0.026602</td>\n",
       "      <td>-0.167756</td>\n",
       "    </tr>\n",
       "    <tr>\n",
       "      <th>product</th>\n",
       "      <td>0.209435</td>\n",
       "      <td>0.070689</td>\n",
       "      <td>-0.007108</td>\n",
       "      <td>-0.027747</td>\n",
       "      <td>-0.054066</td>\n",
       "      <td>0.000249</td>\n",
       "      <td>-0.015759</td>\n",
       "      <td>0.007144</td>\n",
       "      <td>1.000000</td>\n",
       "      <td>0.027486</td>\n",
       "      <td>...</td>\n",
       "      <td>0.027952</td>\n",
       "      <td>0.047566</td>\n",
       "      <td>-0.104653</td>\n",
       "      <td>NaN</td>\n",
       "      <td>0.013122</td>\n",
       "      <td>-0.018291</td>\n",
       "      <td>-0.060512</td>\n",
       "      <td>-0.110753</td>\n",
       "      <td>0.058073</td>\n",
       "      <td>0.121602</td>\n",
       "    </tr>\n",
       "    <tr>\n",
       "      <th>no_of_CTA</th>\n",
       "      <td>0.117558</td>\n",
       "      <td>0.100454</td>\n",
       "      <td>0.400213</td>\n",
       "      <td>0.559353</td>\n",
       "      <td>-0.170012</td>\n",
       "      <td>-0.037789</td>\n",
       "      <td>-0.033464</td>\n",
       "      <td>-0.023931</td>\n",
       "      <td>0.027486</td>\n",
       "      <td>1.000000</td>\n",
       "      <td>...</td>\n",
       "      <td>-0.005971</td>\n",
       "      <td>-0.145453</td>\n",
       "      <td>0.092320</td>\n",
       "      <td>NaN</td>\n",
       "      <td>-0.037244</td>\n",
       "      <td>0.041797</td>\n",
       "      <td>-0.015229</td>\n",
       "      <td>-0.015649</td>\n",
       "      <td>-0.007979</td>\n",
       "      <td>-0.172637</td>\n",
       "    </tr>\n",
       "    <tr>\n",
       "      <th>mean_CTA_len</th>\n",
       "      <td>0.092375</td>\n",
       "      <td>0.016604</td>\n",
       "      <td>0.144261</td>\n",
       "      <td>0.083468</td>\n",
       "      <td>0.064632</td>\n",
       "      <td>-0.003614</td>\n",
       "      <td>-0.032421</td>\n",
       "      <td>0.127554</td>\n",
       "      <td>0.043223</td>\n",
       "      <td>0.170387</td>\n",
       "      <td>...</td>\n",
       "      <td>-0.021751</td>\n",
       "      <td>-0.123560</td>\n",
       "      <td>0.023271</td>\n",
       "      <td>NaN</td>\n",
       "      <td>0.032827</td>\n",
       "      <td>0.029194</td>\n",
       "      <td>0.013934</td>\n",
       "      <td>0.100071</td>\n",
       "      <td>0.007170</td>\n",
       "      <td>-0.031162</td>\n",
       "    </tr>\n",
       "    <tr>\n",
       "      <th>is_image</th>\n",
       "      <td>-0.022799</td>\n",
       "      <td>-0.093244</td>\n",
       "      <td>-0.002214</td>\n",
       "      <td>-0.021254</td>\n",
       "      <td>-0.091250</td>\n",
       "      <td>0.019365</td>\n",
       "      <td>0.036626</td>\n",
       "      <td>-0.028794</td>\n",
       "      <td>0.027952</td>\n",
       "      <td>-0.005971</td>\n",
       "      <td>...</td>\n",
       "      <td>1.000000</td>\n",
       "      <td>0.004322</td>\n",
       "      <td>-0.065771</td>\n",
       "      <td>NaN</td>\n",
       "      <td>0.018781</td>\n",
       "      <td>0.005489</td>\n",
       "      <td>-0.010118</td>\n",
       "      <td>0.005982</td>\n",
       "      <td>0.013039</td>\n",
       "      <td>-0.021527</td>\n",
       "    </tr>\n",
       "    <tr>\n",
       "      <th>is_personalised</th>\n",
       "      <td>0.219755</td>\n",
       "      <td>0.147959</td>\n",
       "      <td>-0.293446</td>\n",
       "      <td>-0.220696</td>\n",
       "      <td>0.162480</td>\n",
       "      <td>-0.069705</td>\n",
       "      <td>-0.065130</td>\n",
       "      <td>0.132441</td>\n",
       "      <td>0.047566</td>\n",
       "      <td>-0.145453</td>\n",
       "      <td>...</td>\n",
       "      <td>0.004322</td>\n",
       "      <td>1.000000</td>\n",
       "      <td>-0.018308</td>\n",
       "      <td>NaN</td>\n",
       "      <td>-0.054371</td>\n",
       "      <td>-0.049853</td>\n",
       "      <td>-0.017791</td>\n",
       "      <td>-0.087175</td>\n",
       "      <td>-0.023227</td>\n",
       "      <td>0.032922</td>\n",
       "    </tr>\n",
       "    <tr>\n",
       "      <th>is_quote</th>\n",
       "      <td>-0.006662</td>\n",
       "      <td>0.020928</td>\n",
       "      <td>0.120273</td>\n",
       "      <td>0.184035</td>\n",
       "      <td>-0.096086</td>\n",
       "      <td>-0.032476</td>\n",
       "      <td>-0.033968</td>\n",
       "      <td>-0.101411</td>\n",
       "      <td>-0.104653</td>\n",
       "      <td>0.092320</td>\n",
       "      <td>...</td>\n",
       "      <td>-0.065771</td>\n",
       "      <td>-0.018308</td>\n",
       "      <td>1.000000</td>\n",
       "      <td>NaN</td>\n",
       "      <td>-0.038451</td>\n",
       "      <td>0.001138</td>\n",
       "      <td>-0.035079</td>\n",
       "      <td>-0.037093</td>\n",
       "      <td>-0.011018</td>\n",
       "      <td>-0.098402</td>\n",
       "    </tr>\n",
       "    <tr>\n",
       "      <th>is_timer</th>\n",
       "      <td>NaN</td>\n",
       "      <td>NaN</td>\n",
       "      <td>NaN</td>\n",
       "      <td>NaN</td>\n",
       "      <td>NaN</td>\n",
       "      <td>NaN</td>\n",
       "      <td>NaN</td>\n",
       "      <td>NaN</td>\n",
       "      <td>NaN</td>\n",
       "      <td>NaN</td>\n",
       "      <td>...</td>\n",
       "      <td>NaN</td>\n",
       "      <td>NaN</td>\n",
       "      <td>NaN</td>\n",
       "      <td>NaN</td>\n",
       "      <td>NaN</td>\n",
       "      <td>NaN</td>\n",
       "      <td>NaN</td>\n",
       "      <td>NaN</td>\n",
       "      <td>NaN</td>\n",
       "      <td>NaN</td>\n",
       "    </tr>\n",
       "    <tr>\n",
       "      <th>is_emoticons</th>\n",
       "      <td>-0.128840</td>\n",
       "      <td>-0.105279</td>\n",
       "      <td>0.080303</td>\n",
       "      <td>-0.043931</td>\n",
       "      <td>-0.043173</td>\n",
       "      <td>-0.013571</td>\n",
       "      <td>-0.007504</td>\n",
       "      <td>0.100071</td>\n",
       "      <td>0.013122</td>\n",
       "      <td>-0.037244</td>\n",
       "      <td>...</td>\n",
       "      <td>0.018781</td>\n",
       "      <td>-0.054371</td>\n",
       "      <td>-0.038451</td>\n",
       "      <td>NaN</td>\n",
       "      <td>1.000000</td>\n",
       "      <td>0.027370</td>\n",
       "      <td>-0.024949</td>\n",
       "      <td>0.085647</td>\n",
       "      <td>0.045830</td>\n",
       "      <td>-0.094305</td>\n",
       "    </tr>\n",
       "    <tr>\n",
       "      <th>is_discount</th>\n",
       "      <td>-0.002232</td>\n",
       "      <td>-0.046900</td>\n",
       "      <td>0.125134</td>\n",
       "      <td>0.051123</td>\n",
       "      <td>-0.032096</td>\n",
       "      <td>-0.037122</td>\n",
       "      <td>-0.033757</td>\n",
       "      <td>0.166200</td>\n",
       "      <td>-0.018291</td>\n",
       "      <td>0.041797</td>\n",
       "      <td>...</td>\n",
       "      <td>0.005489</td>\n",
       "      <td>-0.049853</td>\n",
       "      <td>0.001138</td>\n",
       "      <td>NaN</td>\n",
       "      <td>0.027370</td>\n",
       "      <td>1.000000</td>\n",
       "      <td>0.034205</td>\n",
       "      <td>0.185347</td>\n",
       "      <td>-0.030896</td>\n",
       "      <td>-0.086105</td>\n",
       "    </tr>\n",
       "    <tr>\n",
       "      <th>is_price</th>\n",
       "      <td>-0.041955</td>\n",
       "      <td>0.024099</td>\n",
       "      <td>0.033410</td>\n",
       "      <td>0.022431</td>\n",
       "      <td>0.006765</td>\n",
       "      <td>-0.013822</td>\n",
       "      <td>-0.036255</td>\n",
       "      <td>0.068450</td>\n",
       "      <td>-0.060512</td>\n",
       "      <td>-0.015229</td>\n",
       "      <td>...</td>\n",
       "      <td>-0.010118</td>\n",
       "      <td>-0.017791</td>\n",
       "      <td>-0.035079</td>\n",
       "      <td>NaN</td>\n",
       "      <td>-0.024949</td>\n",
       "      <td>0.034205</td>\n",
       "      <td>1.000000</td>\n",
       "      <td>0.030223</td>\n",
       "      <td>0.014347</td>\n",
       "      <td>-0.030540</td>\n",
       "    </tr>\n",
       "    <tr>\n",
       "      <th>is_urgency</th>\n",
       "      <td>-0.058105</td>\n",
       "      <td>-0.071096</td>\n",
       "      <td>0.100584</td>\n",
       "      <td>0.023734</td>\n",
       "      <td>-0.037435</td>\n",
       "      <td>0.012735</td>\n",
       "      <td>-0.009789</td>\n",
       "      <td>0.189839</td>\n",
       "      <td>-0.110753</td>\n",
       "      <td>-0.015649</td>\n",
       "      <td>...</td>\n",
       "      <td>0.005982</td>\n",
       "      <td>-0.087175</td>\n",
       "      <td>-0.037093</td>\n",
       "      <td>NaN</td>\n",
       "      <td>0.085647</td>\n",
       "      <td>0.185347</td>\n",
       "      <td>0.030223</td>\n",
       "      <td>1.000000</td>\n",
       "      <td>0.058311</td>\n",
       "      <td>-0.114284</td>\n",
       "    </tr>\n",
       "    <tr>\n",
       "      <th>target_audience</th>\n",
       "      <td>-0.104905</td>\n",
       "      <td>-0.132554</td>\n",
       "      <td>-0.021855</td>\n",
       "      <td>-0.075754</td>\n",
       "      <td>-0.110896</td>\n",
       "      <td>0.081693</td>\n",
       "      <td>0.046638</td>\n",
       "      <td>-0.026602</td>\n",
       "      <td>0.058073</td>\n",
       "      <td>-0.007979</td>\n",
       "      <td>...</td>\n",
       "      <td>0.013039</td>\n",
       "      <td>-0.023227</td>\n",
       "      <td>-0.011018</td>\n",
       "      <td>NaN</td>\n",
       "      <td>0.045830</td>\n",
       "      <td>-0.030896</td>\n",
       "      <td>0.014347</td>\n",
       "      <td>0.058311</td>\n",
       "      <td>1.000000</td>\n",
       "      <td>0.038713</td>\n",
       "    </tr>\n",
       "    <tr>\n",
       "      <th>click_rate</th>\n",
       "      <td>0.053315</td>\n",
       "      <td>-0.031398</td>\n",
       "      <td>-0.180143</td>\n",
       "      <td>-0.247866</td>\n",
       "      <td>0.178042</td>\n",
       "      <td>0.086372</td>\n",
       "      <td>0.114138</td>\n",
       "      <td>-0.167756</td>\n",
       "      <td>0.121602</td>\n",
       "      <td>-0.172637</td>\n",
       "      <td>...</td>\n",
       "      <td>-0.021527</td>\n",
       "      <td>0.032922</td>\n",
       "      <td>-0.098402</td>\n",
       "      <td>NaN</td>\n",
       "      <td>-0.094305</td>\n",
       "      <td>-0.086105</td>\n",
       "      <td>-0.030540</td>\n",
       "      <td>-0.114284</td>\n",
       "      <td>0.038713</td>\n",
       "      <td>1.000000</td>\n",
       "    </tr>\n",
       "  </tbody>\n",
       "</table>\n",
       "<p>21 rows × 21 columns</p>\n",
       "</div>"
      ],
      "text/plain": [
       "                    campaign_id    sender  subject_len  body_len  \\\n",
       "campaign_id            1.000000  0.443314    -0.052252  0.200128   \n",
       "sender                 0.443314  1.000000    -0.102559  0.197929   \n",
       "subject_len           -0.052252 -0.102559     1.000000  0.427326   \n",
       "body_len               0.200128  0.197929     0.427326  1.000000   \n",
       "mean_paragraph_len     0.028225  0.056891    -0.224770 -0.496146   \n",
       "day_of_week            0.036410 -0.046928    -0.033574 -0.089146   \n",
       "is_weekend             0.051932 -0.059499    -0.056666 -0.079255   \n",
       "category               0.289416  0.188444     0.012601  0.026781   \n",
       "product                0.209435  0.070689    -0.007108 -0.027747   \n",
       "no_of_CTA              0.117558  0.100454     0.400213  0.559353   \n",
       "mean_CTA_len           0.092375  0.016604     0.144261  0.083468   \n",
       "is_image              -0.022799 -0.093244    -0.002214 -0.021254   \n",
       "is_personalised        0.219755  0.147959    -0.293446 -0.220696   \n",
       "is_quote              -0.006662  0.020928     0.120273  0.184035   \n",
       "is_timer                    NaN       NaN          NaN       NaN   \n",
       "is_emoticons          -0.128840 -0.105279     0.080303 -0.043931   \n",
       "is_discount           -0.002232 -0.046900     0.125134  0.051123   \n",
       "is_price              -0.041955  0.024099     0.033410  0.022431   \n",
       "is_urgency            -0.058105 -0.071096     0.100584  0.023734   \n",
       "target_audience       -0.104905 -0.132554    -0.021855 -0.075754   \n",
       "click_rate             0.053315 -0.031398    -0.180143 -0.247866   \n",
       "\n",
       "                    mean_paragraph_len  day_of_week  is_weekend  category  \\\n",
       "campaign_id                   0.028225     0.036410    0.051932  0.289416   \n",
       "sender                        0.056891    -0.046928   -0.059499  0.188444   \n",
       "subject_len                  -0.224770    -0.033574   -0.056666  0.012601   \n",
       "body_len                     -0.496146    -0.089146   -0.079255  0.026781   \n",
       "mean_paragraph_len            1.000000     0.003221   -0.012964  0.037475   \n",
       "day_of_week                   0.003221     1.000000    0.720599 -0.058760   \n",
       "is_weekend                   -0.012964     0.720599    1.000000 -0.063763   \n",
       "category                      0.037475    -0.058760   -0.063763  1.000000   \n",
       "product                      -0.054066     0.000249   -0.015759  0.007144   \n",
       "no_of_CTA                    -0.170012    -0.037789   -0.033464 -0.023931   \n",
       "mean_CTA_len                  0.064632    -0.003614   -0.032421  0.127554   \n",
       "is_image                     -0.091250     0.019365    0.036626 -0.028794   \n",
       "is_personalised               0.162480    -0.069705   -0.065130  0.132441   \n",
       "is_quote                     -0.096086    -0.032476   -0.033968 -0.101411   \n",
       "is_timer                           NaN          NaN         NaN       NaN   \n",
       "is_emoticons                 -0.043173    -0.013571   -0.007504  0.100071   \n",
       "is_discount                  -0.032096    -0.037122   -0.033757  0.166200   \n",
       "is_price                      0.006765    -0.013822   -0.036255  0.068450   \n",
       "is_urgency                   -0.037435     0.012735   -0.009789  0.189839   \n",
       "target_audience              -0.110896     0.081693    0.046638 -0.026602   \n",
       "click_rate                    0.178042     0.086372    0.114138 -0.167756   \n",
       "\n",
       "                     product  no_of_CTA  ...  is_image  is_personalised  \\\n",
       "campaign_id         0.209435   0.117558  ... -0.022799         0.219755   \n",
       "sender              0.070689   0.100454  ... -0.093244         0.147959   \n",
       "subject_len        -0.007108   0.400213  ... -0.002214        -0.293446   \n",
       "body_len           -0.027747   0.559353  ... -0.021254        -0.220696   \n",
       "mean_paragraph_len -0.054066  -0.170012  ... -0.091250         0.162480   \n",
       "day_of_week         0.000249  -0.037789  ...  0.019365        -0.069705   \n",
       "is_weekend         -0.015759  -0.033464  ...  0.036626        -0.065130   \n",
       "category            0.007144  -0.023931  ... -0.028794         0.132441   \n",
       "product             1.000000   0.027486  ...  0.027952         0.047566   \n",
       "no_of_CTA           0.027486   1.000000  ... -0.005971        -0.145453   \n",
       "mean_CTA_len        0.043223   0.170387  ... -0.021751        -0.123560   \n",
       "is_image            0.027952  -0.005971  ...  1.000000         0.004322   \n",
       "is_personalised     0.047566  -0.145453  ...  0.004322         1.000000   \n",
       "is_quote           -0.104653   0.092320  ... -0.065771        -0.018308   \n",
       "is_timer                 NaN        NaN  ...       NaN              NaN   \n",
       "is_emoticons        0.013122  -0.037244  ...  0.018781        -0.054371   \n",
       "is_discount        -0.018291   0.041797  ...  0.005489        -0.049853   \n",
       "is_price           -0.060512  -0.015229  ... -0.010118        -0.017791   \n",
       "is_urgency         -0.110753  -0.015649  ...  0.005982        -0.087175   \n",
       "target_audience     0.058073  -0.007979  ...  0.013039        -0.023227   \n",
       "click_rate          0.121602  -0.172637  ... -0.021527         0.032922   \n",
       "\n",
       "                    is_quote  is_timer  is_emoticons  is_discount  is_price  \\\n",
       "campaign_id        -0.006662       NaN     -0.128840    -0.002232 -0.041955   \n",
       "sender              0.020928       NaN     -0.105279    -0.046900  0.024099   \n",
       "subject_len         0.120273       NaN      0.080303     0.125134  0.033410   \n",
       "body_len            0.184035       NaN     -0.043931     0.051123  0.022431   \n",
       "mean_paragraph_len -0.096086       NaN     -0.043173    -0.032096  0.006765   \n",
       "day_of_week        -0.032476       NaN     -0.013571    -0.037122 -0.013822   \n",
       "is_weekend         -0.033968       NaN     -0.007504    -0.033757 -0.036255   \n",
       "category           -0.101411       NaN      0.100071     0.166200  0.068450   \n",
       "product            -0.104653       NaN      0.013122    -0.018291 -0.060512   \n",
       "no_of_CTA           0.092320       NaN     -0.037244     0.041797 -0.015229   \n",
       "mean_CTA_len        0.023271       NaN      0.032827     0.029194  0.013934   \n",
       "is_image           -0.065771       NaN      0.018781     0.005489 -0.010118   \n",
       "is_personalised    -0.018308       NaN     -0.054371    -0.049853 -0.017791   \n",
       "is_quote            1.000000       NaN     -0.038451     0.001138 -0.035079   \n",
       "is_timer                 NaN       NaN           NaN          NaN       NaN   \n",
       "is_emoticons       -0.038451       NaN      1.000000     0.027370 -0.024949   \n",
       "is_discount         0.001138       NaN      0.027370     1.000000  0.034205   \n",
       "is_price           -0.035079       NaN     -0.024949     0.034205  1.000000   \n",
       "is_urgency         -0.037093       NaN      0.085647     0.185347  0.030223   \n",
       "target_audience    -0.011018       NaN      0.045830    -0.030896  0.014347   \n",
       "click_rate         -0.098402       NaN     -0.094305    -0.086105 -0.030540   \n",
       "\n",
       "                    is_urgency  target_audience  click_rate  \n",
       "campaign_id          -0.058105        -0.104905    0.053315  \n",
       "sender               -0.071096        -0.132554   -0.031398  \n",
       "subject_len           0.100584        -0.021855   -0.180143  \n",
       "body_len              0.023734        -0.075754   -0.247866  \n",
       "mean_paragraph_len   -0.037435        -0.110896    0.178042  \n",
       "day_of_week           0.012735         0.081693    0.086372  \n",
       "is_weekend           -0.009789         0.046638    0.114138  \n",
       "category              0.189839        -0.026602   -0.167756  \n",
       "product              -0.110753         0.058073    0.121602  \n",
       "no_of_CTA            -0.015649        -0.007979   -0.172637  \n",
       "mean_CTA_len          0.100071         0.007170   -0.031162  \n",
       "is_image              0.005982         0.013039   -0.021527  \n",
       "is_personalised      -0.087175        -0.023227    0.032922  \n",
       "is_quote             -0.037093        -0.011018   -0.098402  \n",
       "is_timer                   NaN              NaN         NaN  \n",
       "is_emoticons          0.085647         0.045830   -0.094305  \n",
       "is_discount           0.185347        -0.030896   -0.086105  \n",
       "is_price              0.030223         0.014347   -0.030540  \n",
       "is_urgency            1.000000         0.058311   -0.114284  \n",
       "target_audience       0.058311         1.000000    0.038713  \n",
       "click_rate           -0.114284         0.038713    1.000000  \n",
       "\n",
       "[21 rows x 21 columns]"
      ]
     },
     "execution_count": 6,
     "metadata": {},
     "output_type": "execute_result"
    }
   ],
   "source": [
    "df.corr()"
   ]
  },
  {
   "cell_type": "code",
   "execution_count": 7,
   "metadata": {
    "colab": {
     "base_uri": "https://localhost:8080/"
    },
    "id": "mzFZbnT1gmUw",
    "outputId": "e3552ef3-6c2f-404d-9832-e9fae25a5a3a"
   },
   "outputs": [
    {
     "data": {
      "text/plain": [
       "array(['Noon', 'Morning', 'Evening'], dtype=object)"
      ]
     },
     "execution_count": 7,
     "metadata": {},
     "output_type": "execute_result"
    }
   ],
   "source": [
    "#check unique values in times_of_day column\n",
    "df['times_of_day'].unique()\n"
   ]
  },
  {
   "cell_type": "code",
   "execution_count": 8,
   "metadata": {
    "colab": {
     "base_uri": "https://localhost:8080/"
    },
    "id": "5xyWRa8Og-F8",
    "outputId": "3b93a76f-67e4-4ecf-fc08-af0250b17c26"
   },
   "outputs": [
    {
     "data": {
      "text/plain": [
       "0    2\n",
       "1    1\n",
       "2    2\n",
       "3    0\n",
       "4    2\n",
       "Name: times_of_day, dtype: int32"
      ]
     },
     "execution_count": 8,
     "metadata": {},
     "output_type": "execute_result"
    }
   ],
   "source": [
    "# Apply one hot encoding to times_of_day column\n",
    "from sklearn.preprocessing import LabelEncoder\n",
    "en=LabelEncoder()\n",
    "df['times_of_day']=en.fit_transform(df['times_of_day'])\n",
    "df['times_of_day'].head()"
   ]
  },
  {
   "cell_type": "markdown",
   "metadata": {
    "id": "r6L541GuRgYe"
   },
   "source": [
    "**Normality check**"
   ]
  },
  {
   "cell_type": "code",
   "execution_count": 9,
   "metadata": {
    "colab": {
     "base_uri": "https://localhost:8080/"
    },
    "id": "jCIawGmdfU-2",
    "outputId": "0ec74633-c390-4852-88b5-8c049276ca18"
   },
   "outputs": [
    {
     "name": "stdout",
     "output_type": "stream",
     "text": [
      "skewness of campaign_id 0.0\n",
      "skewness of sender 2.174657311277134\n",
      "skewness of subject_len 1.6444141380155248\n",
      "skewness of body_len 1.138933085765245\n",
      "skewness of mean_paragraph_len 4.304716100688036\n",
      "skewness of day_of_week 0.07023790854840975\n",
      "skewness of is_weekend 1.5036799328435533\n",
      "skewness of times_of_day 1.03612623716463\n",
      "skewness of category -0.49583748313861375\n",
      "skewness of product 0.6085700776600269\n",
      "skewness of no_of_CTA 4.4812107635351195\n",
      "skewness of mean_CTA_len 2.88693138718808\n",
      "skewness of is_image 0.7959974178833346\n",
      "skewness of is_personalised 3.837751602821495\n",
      "skewness of is_quote 1.6055511994856593\n",
      "skewness of is_timer 0\n",
      "skewness of is_emoticons 3.7579214167191908\n",
      "skewness of is_discount 4.716995859519346\n",
      "skewness of is_price 17.284146405974955\n",
      "skewness of is_urgency 2.457997267600203\n",
      "skewness of target_audience -1.885738722020271\n",
      "skewness of click_rate 4.317743085163305\n"
     ]
    }
   ],
   "source": [
    "for i in df.columns:\n",
    "  skewness=df[i].skew()\n",
    "  print('skewness of {}'.format(i),skewness)\n"
   ]
  },
  {
   "cell_type": "markdown",
   "metadata": {
    "id": "1AVROuAbRoT2"
   },
   "source": [
    "**Distribution of data in each column**"
   ]
  },
  {
   "cell_type": "code",
   "execution_count": 10,
   "metadata": {
    "colab": {
     "base_uri": "https://localhost:8080/",
     "height": 620
    },
    "id": "lea3Ykc1gZIn",
    "outputId": "a6dc3ddb-2ec7-4215-bd3f-154bb4ef1f38"
   },
   "outputs": [
    {
     "name": "stderr",
     "output_type": "stream",
     "text": [
      "C:\\Users\\mutho\\anaconda3\\lib\\site-packages\\seaborn\\distributions.py:306: UserWarning: Dataset has 0 variance; skipping density estimate.\n",
      "  warnings.warn(msg, UserWarning)\n"
     ]
    },
    {
     "data": {
      "image/png": "[encoded data removed]",
      "text/plain": [
       "<Figure size 1440x1296 with 22 Axes>"
      ]
     },
     "metadata": {
      "needs_background": "light"
     },
     "output_type": "display_data"
    }
   ],
   "source": [
    "#check distribution of data in each column\n",
    "import seaborn as sns\n",
    "import matplotlib.pyplot as plt\n",
    "plt.figure(figsize=(20,18))\n",
    "plot_num=1\n",
    "for i in df:\n",
    "  plt.subplot(8,3,plot_num)\n",
    "  sns.histplot(x=df[i],data=df,kde=True)\n",
    "  plt.xlabel(i)\n",
    "  plot_num+=1\n",
    "plt.tight_layout()\n",
    "plt.show()"
   ]
  },
  {
   "cell_type": "markdown",
   "metadata": {
    "id": "XfOkkJ-RR15B"
   },
   "source": [
    "**check for Outliers visually**"
   ]
  },
  {
   "cell_type": "code",
   "execution_count": 11,
   "metadata": {
    "colab": {
     "base_uri": "https://localhost:8080/",
     "height": 620
    },
    "id": "fRJFYKOSacYp",
    "outputId": "2aec4cb7-608a-4bd2-d344-230cfbd25e5d"
   },
   "outputs": [
    {
     "data": {
      "image/png": "[encoded data removed]",
      "text/plain": [
       "<Figure size 1440x1296 with 22 Axes>"
      ]
     },
     "metadata": {
      "needs_background": "light"
     },
     "output_type": "display_data"
    }
   ],
   "source": [
    "#check outliers in each column\n",
    "plt.figure(figsize=(20,18))\n",
    "plot_num=1\n",
    "for i in df:\n",
    "  plt.subplot(8,3,plot_num)\n",
    "  plt.boxplot(df[i])\n",
    "  plt.xlabel(i)\n",
    "  plot_num+=1\n",
    "plt.tight_layout()\n",
    "plt.show()"
   ]
  },
  {
   "cell_type": "code",
   "execution_count": 12,
   "metadata": {
    "id": "g3fCvmozSaoO"
   },
   "outputs": [],
   "source": [
    "#remove outliers and collect filtered data\n",
    "for col in df:\n",
    "  q1=df[col].quantile(0.25)\n",
    "  q3=df[col].quantile(0.75)\n",
    "  IQR=q3-q1\n",
    "  upper_bound=q3+1.5*IQR\n",
    "  lower_bound=q1-1.5*IQR\n",
    "  data_filtered=df[(df[col]>lower_bound) & (df[col]<upper_bound)]\n"
   ]
  },
  {
   "cell_type": "code",
   "execution_count": 13,
   "metadata": {
    "colab": {
     "base_uri": "https://localhost:8080/",
     "height": 487
    },
    "id": "bR_k5XruUA6w",
    "outputId": "aad6f0d4-e1a4-449e-8ae6-aa654c208430"
   },
   "outputs": [
    {
     "data": {
      "text/html": [
       "<div>\n",
       "<style scoped>\n",
       "    .dataframe tbody tr th:only-of-type {\n",
       "        vertical-align: middle;\n",
       "    }\n",
       "\n",
       "    .dataframe tbody tr th {\n",
       "        vertical-align: top;\n",
       "    }\n",
       "\n",
       "    .dataframe thead th {\n",
       "        text-align: right;\n",
       "    }\n",
       "</style>\n",
       "<table border=\"1\" class=\"dataframe\">\n",
       "  <thead>\n",
       "    <tr style=\"text-align: right;\">\n",
       "      <th></th>\n",
       "      <th>campaign_id</th>\n",
       "      <th>sender</th>\n",
       "      <th>subject_len</th>\n",
       "      <th>body_len</th>\n",
       "      <th>mean_paragraph_len</th>\n",
       "      <th>day_of_week</th>\n",
       "      <th>is_weekend</th>\n",
       "      <th>times_of_day</th>\n",
       "      <th>category</th>\n",
       "      <th>product</th>\n",
       "      <th>...</th>\n",
       "      <th>is_image</th>\n",
       "      <th>is_personalised</th>\n",
       "      <th>is_quote</th>\n",
       "      <th>is_timer</th>\n",
       "      <th>is_emoticons</th>\n",
       "      <th>is_discount</th>\n",
       "      <th>is_price</th>\n",
       "      <th>is_urgency</th>\n",
       "      <th>target_audience</th>\n",
       "      <th>click_rate</th>\n",
       "    </tr>\n",
       "  </thead>\n",
       "  <tbody>\n",
       "    <tr>\n",
       "      <th>2</th>\n",
       "      <td>3</td>\n",
       "      <td>3</td>\n",
       "      <td>59</td>\n",
       "      <td>12801</td>\n",
       "      <td>16</td>\n",
       "      <td>5</td>\n",
       "      <td>1</td>\n",
       "      <td>2</td>\n",
       "      <td>2</td>\n",
       "      <td>11</td>\n",
       "      <td>...</td>\n",
       "      <td>1</td>\n",
       "      <td>0</td>\n",
       "      <td>1</td>\n",
       "      <td>0</td>\n",
       "      <td>0</td>\n",
       "      <td>0</td>\n",
       "      <td>0</td>\n",
       "      <td>0</td>\n",
       "      <td>16</td>\n",
       "      <td>0.002769</td>\n",
       "    </tr>\n",
       "    <tr>\n",
       "      <th>3</th>\n",
       "      <td>4</td>\n",
       "      <td>3</td>\n",
       "      <td>74</td>\n",
       "      <td>11037</td>\n",
       "      <td>30</td>\n",
       "      <td>4</td>\n",
       "      <td>0</td>\n",
       "      <td>0</td>\n",
       "      <td>15</td>\n",
       "      <td>9</td>\n",
       "      <td>...</td>\n",
       "      <td>0</td>\n",
       "      <td>0</td>\n",
       "      <td>0</td>\n",
       "      <td>0</td>\n",
       "      <td>0</td>\n",
       "      <td>0</td>\n",
       "      <td>0</td>\n",
       "      <td>0</td>\n",
       "      <td>10</td>\n",
       "      <td>0.010868</td>\n",
       "    </tr>\n",
       "    <tr>\n",
       "      <th>8</th>\n",
       "      <td>9</td>\n",
       "      <td>3</td>\n",
       "      <td>89</td>\n",
       "      <td>10055</td>\n",
       "      <td>14</td>\n",
       "      <td>4</td>\n",
       "      <td>0</td>\n",
       "      <td>2</td>\n",
       "      <td>6</td>\n",
       "      <td>26</td>\n",
       "      <td>...</td>\n",
       "      <td>1</td>\n",
       "      <td>0</td>\n",
       "      <td>0</td>\n",
       "      <td>0</td>\n",
       "      <td>0</td>\n",
       "      <td>0</td>\n",
       "      <td>0</td>\n",
       "      <td>0</td>\n",
       "      <td>13</td>\n",
       "      <td>0.029233</td>\n",
       "    </tr>\n",
       "    <tr>\n",
       "      <th>9</th>\n",
       "      <td>10</td>\n",
       "      <td>3</td>\n",
       "      <td>89</td>\n",
       "      <td>11049</td>\n",
       "      <td>26</td>\n",
       "      <td>3</td>\n",
       "      <td>0</td>\n",
       "      <td>0</td>\n",
       "      <td>15</td>\n",
       "      <td>9</td>\n",
       "      <td>...</td>\n",
       "      <td>0</td>\n",
       "      <td>0</td>\n",
       "      <td>0</td>\n",
       "      <td>0</td>\n",
       "      <td>0</td>\n",
       "      <td>0</td>\n",
       "      <td>0</td>\n",
       "      <td>0</td>\n",
       "      <td>6</td>\n",
       "      <td>0.003058</td>\n",
       "    </tr>\n",
       "    <tr>\n",
       "      <th>12</th>\n",
       "      <td>13</td>\n",
       "      <td>3</td>\n",
       "      <td>82</td>\n",
       "      <td>9587</td>\n",
       "      <td>33</td>\n",
       "      <td>2</td>\n",
       "      <td>0</td>\n",
       "      <td>0</td>\n",
       "      <td>15</td>\n",
       "      <td>9</td>\n",
       "      <td>...</td>\n",
       "      <td>1</td>\n",
       "      <td>0</td>\n",
       "      <td>0</td>\n",
       "      <td>0</td>\n",
       "      <td>0</td>\n",
       "      <td>0</td>\n",
       "      <td>0</td>\n",
       "      <td>0</td>\n",
       "      <td>15</td>\n",
       "      <td>0.006463</td>\n",
       "    </tr>\n",
       "    <tr>\n",
       "      <th>...</th>\n",
       "      <td>...</td>\n",
       "      <td>...</td>\n",
       "      <td>...</td>\n",
       "      <td>...</td>\n",
       "      <td>...</td>\n",
       "      <td>...</td>\n",
       "      <td>...</td>\n",
       "      <td>...</td>\n",
       "      <td>...</td>\n",
       "      <td>...</td>\n",
       "      <td>...</td>\n",
       "      <td>...</td>\n",
       "      <td>...</td>\n",
       "      <td>...</td>\n",
       "      <td>...</td>\n",
       "      <td>...</td>\n",
       "      <td>...</td>\n",
       "      <td>...</td>\n",
       "      <td>...</td>\n",
       "      <td>...</td>\n",
       "      <td>...</td>\n",
       "    </tr>\n",
       "    <tr>\n",
       "      <th>1882</th>\n",
       "      <td>1883</td>\n",
       "      <td>3</td>\n",
       "      <td>74</td>\n",
       "      <td>10535</td>\n",
       "      <td>40</td>\n",
       "      <td>3</td>\n",
       "      <td>0</td>\n",
       "      <td>0</td>\n",
       "      <td>2</td>\n",
       "      <td>11</td>\n",
       "      <td>...</td>\n",
       "      <td>0</td>\n",
       "      <td>0</td>\n",
       "      <td>0</td>\n",
       "      <td>0</td>\n",
       "      <td>0</td>\n",
       "      <td>0</td>\n",
       "      <td>0</td>\n",
       "      <td>0</td>\n",
       "      <td>15</td>\n",
       "      <td>0.002748</td>\n",
       "    </tr>\n",
       "    <tr>\n",
       "      <th>1884</th>\n",
       "      <td>1885</td>\n",
       "      <td>3</td>\n",
       "      <td>58</td>\n",
       "      <td>10537</td>\n",
       "      <td>40</td>\n",
       "      <td>2</td>\n",
       "      <td>0</td>\n",
       "      <td>0</td>\n",
       "      <td>2</td>\n",
       "      <td>11</td>\n",
       "      <td>...</td>\n",
       "      <td>0</td>\n",
       "      <td>0</td>\n",
       "      <td>0</td>\n",
       "      <td>0</td>\n",
       "      <td>0</td>\n",
       "      <td>0</td>\n",
       "      <td>0</td>\n",
       "      <td>0</td>\n",
       "      <td>11</td>\n",
       "      <td>0.004728</td>\n",
       "    </tr>\n",
       "    <tr>\n",
       "      <th>1885</th>\n",
       "      <td>1886</td>\n",
       "      <td>3</td>\n",
       "      <td>89</td>\n",
       "      <td>11050</td>\n",
       "      <td>26</td>\n",
       "      <td>1</td>\n",
       "      <td>0</td>\n",
       "      <td>0</td>\n",
       "      <td>15</td>\n",
       "      <td>9</td>\n",
       "      <td>...</td>\n",
       "      <td>0</td>\n",
       "      <td>0</td>\n",
       "      <td>0</td>\n",
       "      <td>0</td>\n",
       "      <td>0</td>\n",
       "      <td>0</td>\n",
       "      <td>0</td>\n",
       "      <td>0</td>\n",
       "      <td>6</td>\n",
       "      <td>0.008289</td>\n",
       "    </tr>\n",
       "    <tr>\n",
       "      <th>1886</th>\n",
       "      <td>1887</td>\n",
       "      <td>3</td>\n",
       "      <td>58</td>\n",
       "      <td>10537</td>\n",
       "      <td>40</td>\n",
       "      <td>1</td>\n",
       "      <td>0</td>\n",
       "      <td>0</td>\n",
       "      <td>2</td>\n",
       "      <td>11</td>\n",
       "      <td>...</td>\n",
       "      <td>0</td>\n",
       "      <td>0</td>\n",
       "      <td>0</td>\n",
       "      <td>0</td>\n",
       "      <td>0</td>\n",
       "      <td>0</td>\n",
       "      <td>0</td>\n",
       "      <td>0</td>\n",
       "      <td>16</td>\n",
       "      <td>0.012014</td>\n",
       "    </tr>\n",
       "    <tr>\n",
       "      <th>1887</th>\n",
       "      <td>1888</td>\n",
       "      <td>3</td>\n",
       "      <td>89</td>\n",
       "      <td>11050</td>\n",
       "      <td>26</td>\n",
       "      <td>0</td>\n",
       "      <td>0</td>\n",
       "      <td>0</td>\n",
       "      <td>15</td>\n",
       "      <td>9</td>\n",
       "      <td>...</td>\n",
       "      <td>0</td>\n",
       "      <td>0</td>\n",
       "      <td>0</td>\n",
       "      <td>0</td>\n",
       "      <td>0</td>\n",
       "      <td>0</td>\n",
       "      <td>0</td>\n",
       "      <td>0</td>\n",
       "      <td>10</td>\n",
       "      <td>0.003644</td>\n",
       "    </tr>\n",
       "  </tbody>\n",
       "</table>\n",
       "<p>1620 rows × 22 columns</p>\n",
       "</div>"
      ],
      "text/plain": [
       "      campaign_id  sender  subject_len  body_len  mean_paragraph_len  \\\n",
       "2               3       3           59     12801                  16   \n",
       "3               4       3           74     11037                  30   \n",
       "8               9       3           89     10055                  14   \n",
       "9              10       3           89     11049                  26   \n",
       "12             13       3           82      9587                  33   \n",
       "...           ...     ...          ...       ...                 ...   \n",
       "1882         1883       3           74     10535                  40   \n",
       "1884         1885       3           58     10537                  40   \n",
       "1885         1886       3           89     11050                  26   \n",
       "1886         1887       3           58     10537                  40   \n",
       "1887         1888       3           89     11050                  26   \n",
       "\n",
       "      day_of_week  is_weekend  times_of_day  category  product  ...  is_image  \\\n",
       "2               5           1             2         2       11  ...         1   \n",
       "3               4           0             0        15        9  ...         0   \n",
       "8               4           0             2         6       26  ...         1   \n",
       "9               3           0             0        15        9  ...         0   \n",
       "12              2           0             0        15        9  ...         1   \n",
       "...           ...         ...           ...       ...      ...  ...       ...   \n",
       "1882            3           0             0         2       11  ...         0   \n",
       "1884            2           0             0         2       11  ...         0   \n",
       "1885            1           0             0        15        9  ...         0   \n",
       "1886            1           0             0         2       11  ...         0   \n",
       "1887            0           0             0        15        9  ...         0   \n",
       "\n",
       "      is_personalised  is_quote  is_timer  is_emoticons  is_discount  \\\n",
       "2                   0         1         0             0            0   \n",
       "3                   0         0         0             0            0   \n",
       "8                   0         0         0             0            0   \n",
       "9                   0         0         0             0            0   \n",
       "12                  0         0         0             0            0   \n",
       "...               ...       ...       ...           ...          ...   \n",
       "1882                0         0         0             0            0   \n",
       "1884                0         0         0             0            0   \n",
       "1885                0         0         0             0            0   \n",
       "1886                0         0         0             0            0   \n",
       "1887                0         0         0             0            0   \n",
       "\n",
       "      is_price  is_urgency  target_audience  click_rate  \n",
       "2            0           0               16    0.002769  \n",
       "3            0           0               10    0.010868  \n",
       "8            0           0               13    0.029233  \n",
       "9            0           0                6    0.003058  \n",
       "12           0           0               15    0.006463  \n",
       "...        ...         ...              ...         ...  \n",
       "1882         0           0               15    0.002748  \n",
       "1884         0           0               11    0.004728  \n",
       "1885         0           0                6    0.008289  \n",
       "1886         0           0               16    0.012014  \n",
       "1887         0           0               10    0.003644  \n",
       "\n",
       "[1620 rows x 22 columns]"
      ]
     },
     "execution_count": 13,
     "metadata": {},
     "output_type": "execute_result"
    }
   ],
   "source": [
    "data_filtered"
   ]
  },
  {
   "cell_type": "code",
   "execution_count": 14,
   "metadata": {
    "colab": {
     "base_uri": "https://localhost:8080/"
    },
    "id": "5ulRfMwaFezT",
    "outputId": "5b6ab320-df26-4844-9f87-3eeca7f16eda"
   },
   "outputs": [
    {
     "data": {
      "text/plain": [
       "2     0.002769\n",
       "3     0.010868\n",
       "8     0.029233\n",
       "9     0.003058\n",
       "12    0.006463\n",
       "Name: click_rate, dtype: float64"
      ]
     },
     "execution_count": 14,
     "metadata": {},
     "output_type": "execute_result"
    }
   ],
   "source": [
    "#Identify Target variable\n",
    "y=data_filtered['click_rate']\n",
    "y.head()"
   ]
  },
  {
   "cell_type": "code",
   "execution_count": 15,
   "metadata": {
    "colab": {
     "base_uri": "https://localhost:8080/",
     "height": 299
    },
    "id": "izJI5yxgHV7r",
    "outputId": "b9d64cc5-a8db-4cc1-c421-3e273e58fa80"
   },
   "outputs": [
    {
     "data": {
      "text/html": [
       "<div>\n",
       "<style scoped>\n",
       "    .dataframe tbody tr th:only-of-type {\n",
       "        vertical-align: middle;\n",
       "    }\n",
       "\n",
       "    .dataframe tbody tr th {\n",
       "        vertical-align: top;\n",
       "    }\n",
       "\n",
       "    .dataframe thead th {\n",
       "        text-align: right;\n",
       "    }\n",
       "</style>\n",
       "<table border=\"1\" class=\"dataframe\">\n",
       "  <thead>\n",
       "    <tr style=\"text-align: right;\">\n",
       "      <th></th>\n",
       "      <th>campaign_id</th>\n",
       "      <th>sender</th>\n",
       "      <th>subject_len</th>\n",
       "      <th>body_len</th>\n",
       "      <th>mean_paragraph_len</th>\n",
       "      <th>day_of_week</th>\n",
       "      <th>is_weekend</th>\n",
       "      <th>times_of_day</th>\n",
       "      <th>category</th>\n",
       "      <th>product</th>\n",
       "      <th>...</th>\n",
       "      <th>mean_CTA_len</th>\n",
       "      <th>is_image</th>\n",
       "      <th>is_personalised</th>\n",
       "      <th>is_quote</th>\n",
       "      <th>is_timer</th>\n",
       "      <th>is_emoticons</th>\n",
       "      <th>is_discount</th>\n",
       "      <th>is_price</th>\n",
       "      <th>is_urgency</th>\n",
       "      <th>target_audience</th>\n",
       "    </tr>\n",
       "  </thead>\n",
       "  <tbody>\n",
       "    <tr>\n",
       "      <th>2</th>\n",
       "      <td>3</td>\n",
       "      <td>3</td>\n",
       "      <td>59</td>\n",
       "      <td>12801</td>\n",
       "      <td>16</td>\n",
       "      <td>5</td>\n",
       "      <td>1</td>\n",
       "      <td>2</td>\n",
       "      <td>2</td>\n",
       "      <td>11</td>\n",
       "      <td>...</td>\n",
       "      <td>23</td>\n",
       "      <td>1</td>\n",
       "      <td>0</td>\n",
       "      <td>1</td>\n",
       "      <td>0</td>\n",
       "      <td>0</td>\n",
       "      <td>0</td>\n",
       "      <td>0</td>\n",
       "      <td>0</td>\n",
       "      <td>16</td>\n",
       "    </tr>\n",
       "    <tr>\n",
       "      <th>3</th>\n",
       "      <td>4</td>\n",
       "      <td>3</td>\n",
       "      <td>74</td>\n",
       "      <td>11037</td>\n",
       "      <td>30</td>\n",
       "      <td>4</td>\n",
       "      <td>0</td>\n",
       "      <td>0</td>\n",
       "      <td>15</td>\n",
       "      <td>9</td>\n",
       "      <td>...</td>\n",
       "      <td>24</td>\n",
       "      <td>0</td>\n",
       "      <td>0</td>\n",
       "      <td>0</td>\n",
       "      <td>0</td>\n",
       "      <td>0</td>\n",
       "      <td>0</td>\n",
       "      <td>0</td>\n",
       "      <td>0</td>\n",
       "      <td>10</td>\n",
       "    </tr>\n",
       "    <tr>\n",
       "      <th>8</th>\n",
       "      <td>9</td>\n",
       "      <td>3</td>\n",
       "      <td>89</td>\n",
       "      <td>10055</td>\n",
       "      <td>14</td>\n",
       "      <td>4</td>\n",
       "      <td>0</td>\n",
       "      <td>2</td>\n",
       "      <td>6</td>\n",
       "      <td>26</td>\n",
       "      <td>...</td>\n",
       "      <td>34</td>\n",
       "      <td>1</td>\n",
       "      <td>0</td>\n",
       "      <td>0</td>\n",
       "      <td>0</td>\n",
       "      <td>0</td>\n",
       "      <td>0</td>\n",
       "      <td>0</td>\n",
       "      <td>0</td>\n",
       "      <td>13</td>\n",
       "    </tr>\n",
       "    <tr>\n",
       "      <th>9</th>\n",
       "      <td>10</td>\n",
       "      <td>3</td>\n",
       "      <td>89</td>\n",
       "      <td>11049</td>\n",
       "      <td>26</td>\n",
       "      <td>3</td>\n",
       "      <td>0</td>\n",
       "      <td>0</td>\n",
       "      <td>15</td>\n",
       "      <td>9</td>\n",
       "      <td>...</td>\n",
       "      <td>28</td>\n",
       "      <td>0</td>\n",
       "      <td>0</td>\n",
       "      <td>0</td>\n",
       "      <td>0</td>\n",
       "      <td>0</td>\n",
       "      <td>0</td>\n",
       "      <td>0</td>\n",
       "      <td>0</td>\n",
       "      <td>6</td>\n",
       "    </tr>\n",
       "    <tr>\n",
       "      <th>12</th>\n",
       "      <td>13</td>\n",
       "      <td>3</td>\n",
       "      <td>82</td>\n",
       "      <td>9587</td>\n",
       "      <td>33</td>\n",
       "      <td>2</td>\n",
       "      <td>0</td>\n",
       "      <td>0</td>\n",
       "      <td>15</td>\n",
       "      <td>9</td>\n",
       "      <td>...</td>\n",
       "      <td>27</td>\n",
       "      <td>1</td>\n",
       "      <td>0</td>\n",
       "      <td>0</td>\n",
       "      <td>0</td>\n",
       "      <td>0</td>\n",
       "      <td>0</td>\n",
       "      <td>0</td>\n",
       "      <td>0</td>\n",
       "      <td>15</td>\n",
       "    </tr>\n",
       "  </tbody>\n",
       "</table>\n",
       "<p>5 rows × 21 columns</p>\n",
       "</div>"
      ],
      "text/plain": [
       "    campaign_id  sender  subject_len  body_len  mean_paragraph_len  \\\n",
       "2             3       3           59     12801                  16   \n",
       "3             4       3           74     11037                  30   \n",
       "8             9       3           89     10055                  14   \n",
       "9            10       3           89     11049                  26   \n",
       "12           13       3           82      9587                  33   \n",
       "\n",
       "    day_of_week  is_weekend  times_of_day  category  product  ...  \\\n",
       "2             5           1             2         2       11  ...   \n",
       "3             4           0             0        15        9  ...   \n",
       "8             4           0             2         6       26  ...   \n",
       "9             3           0             0        15        9  ...   \n",
       "12            2           0             0        15        9  ...   \n",
       "\n",
       "    mean_CTA_len  is_image  is_personalised  is_quote  is_timer  is_emoticons  \\\n",
       "2             23         1                0         1         0             0   \n",
       "3             24         0                0         0         0             0   \n",
       "8             34         1                0         0         0             0   \n",
       "9             28         0                0         0         0             0   \n",
       "12            27         1                0         0         0             0   \n",
       "\n",
       "    is_discount  is_price  is_urgency  target_audience  \n",
       "2             0         0           0               16  \n",
       "3             0         0           0               10  \n",
       "8             0         0           0               13  \n",
       "9             0         0           0                6  \n",
       "12            0         0           0               15  \n",
       "\n",
       "[5 rows x 21 columns]"
      ]
     },
     "execution_count": 15,
     "metadata": {},
     "output_type": "execute_result"
    }
   ],
   "source": [
    "#feature variables\n",
    "x=data_filtered.drop('click_rate',axis=1)\n",
    "x.head()"
   ]
  },
  {
   "cell_type": "markdown",
   "metadata": {
    "id": "CmunY3ajROh2"
   },
   "source": [
    "**Feature selection**"
   ]
  },
  {
   "cell_type": "code",
   "execution_count": 16,
   "metadata": {
    "id": "inbzRJq5CVKn"
   },
   "outputs": [],
   "source": [
    "from sklearn.feature_selection import SelectFromModel\n",
    "from sklearn.ensemble import RandomForestRegressor\n",
    "sfm=SelectFromModel(RandomForestRegressor()).fit(x,y)"
   ]
  },
  {
   "cell_type": "code",
   "execution_count": 17,
   "metadata": {
    "colab": {
     "base_uri": "https://localhost:8080/"
    },
    "id": "5FM365R9G7aL",
    "outputId": "125ef5e2-6bb0-408a-ccc8-da48224fd3b3"
   },
   "outputs": [
    {
     "data": {
      "text/plain": [
       "array(['campaign_id', 'subject_len', 'body_len', 'mean_paragraph_len',\n",
       "       'day_of_week', 'product', 'mean_CTA_len', 'target_audience'],\n",
       "      dtype=object)"
      ]
     },
     "execution_count": 17,
     "metadata": {},
     "output_type": "execute_result"
    }
   ],
   "source": [
    "X=sfm.get_feature_names_out()\n",
    "X"
   ]
  },
  {
   "cell_type": "code",
   "execution_count": 18,
   "metadata": {
    "colab": {
     "base_uri": "https://localhost:8080/"
    },
    "id": "kervudfXK3OM",
    "outputId": "be3817c7-201f-4f8a-8759-5d7f85e240e2"
   },
   "outputs": [
    {
     "data": {
      "text/plain": [
       "Index(['campaign_id', 'sender', 'subject_len', 'body_len',\n",
       "       'mean_paragraph_len', 'day_of_week', 'is_weekend', 'times_of_day',\n",
       "       'category', 'product', 'no_of_CTA', 'mean_CTA_len', 'is_image',\n",
       "       'is_personalised', 'is_quote', 'is_timer', 'is_emoticons',\n",
       "       'is_discount', 'is_price', 'is_urgency', 'target_audience',\n",
       "       'click_rate'],\n",
       "      dtype='object')"
      ]
     },
     "execution_count": 18,
     "metadata": {},
     "output_type": "execute_result"
    }
   ],
   "source": [
    "data_filtered.columns"
   ]
  },
  {
   "cell_type": "code",
   "execution_count": 19,
   "metadata": {
    "colab": {
     "base_uri": "https://localhost:8080/",
     "height": 270
    },
    "id": "Sek1YQgpKBtT",
    "outputId": "65e76a60-cd21-4d44-d4cc-36253f00dd43"
   },
   "outputs": [
    {
     "data": {
      "text/html": [
       "<div>\n",
       "<style scoped>\n",
       "    .dataframe tbody tr th:only-of-type {\n",
       "        vertical-align: middle;\n",
       "    }\n",
       "\n",
       "    .dataframe tbody tr th {\n",
       "        vertical-align: top;\n",
       "    }\n",
       "\n",
       "    .dataframe thead th {\n",
       "        text-align: right;\n",
       "    }\n",
       "</style>\n",
       "<table border=\"1\" class=\"dataframe\">\n",
       "  <thead>\n",
       "    <tr style=\"text-align: right;\">\n",
       "      <th></th>\n",
       "      <th>campaign_id</th>\n",
       "      <th>subject_len</th>\n",
       "      <th>body_len</th>\n",
       "      <th>mean_paragraph_len</th>\n",
       "      <th>day_of_week</th>\n",
       "      <th>product</th>\n",
       "      <th>mean_CTA_len</th>\n",
       "      <th>target_audience</th>\n",
       "    </tr>\n",
       "  </thead>\n",
       "  <tbody>\n",
       "    <tr>\n",
       "      <th>2</th>\n",
       "      <td>3</td>\n",
       "      <td>59</td>\n",
       "      <td>12801</td>\n",
       "      <td>16</td>\n",
       "      <td>5</td>\n",
       "      <td>11</td>\n",
       "      <td>23</td>\n",
       "      <td>16</td>\n",
       "    </tr>\n",
       "    <tr>\n",
       "      <th>3</th>\n",
       "      <td>4</td>\n",
       "      <td>74</td>\n",
       "      <td>11037</td>\n",
       "      <td>30</td>\n",
       "      <td>4</td>\n",
       "      <td>9</td>\n",
       "      <td>24</td>\n",
       "      <td>10</td>\n",
       "    </tr>\n",
       "    <tr>\n",
       "      <th>8</th>\n",
       "      <td>9</td>\n",
       "      <td>89</td>\n",
       "      <td>10055</td>\n",
       "      <td>14</td>\n",
       "      <td>4</td>\n",
       "      <td>26</td>\n",
       "      <td>34</td>\n",
       "      <td>13</td>\n",
       "    </tr>\n",
       "    <tr>\n",
       "      <th>9</th>\n",
       "      <td>10</td>\n",
       "      <td>89</td>\n",
       "      <td>11049</td>\n",
       "      <td>26</td>\n",
       "      <td>3</td>\n",
       "      <td>9</td>\n",
       "      <td>28</td>\n",
       "      <td>6</td>\n",
       "    </tr>\n",
       "    <tr>\n",
       "      <th>12</th>\n",
       "      <td>13</td>\n",
       "      <td>82</td>\n",
       "      <td>9587</td>\n",
       "      <td>33</td>\n",
       "      <td>2</td>\n",
       "      <td>9</td>\n",
       "      <td>27</td>\n",
       "      <td>15</td>\n",
       "    </tr>\n",
       "  </tbody>\n",
       "</table>\n",
       "</div>"
      ],
      "text/plain": [
       "    campaign_id  subject_len  body_len  mean_paragraph_len  day_of_week  \\\n",
       "2             3           59     12801                  16            5   \n",
       "3             4           74     11037                  30            4   \n",
       "8             9           89     10055                  14            4   \n",
       "9            10           89     11049                  26            3   \n",
       "12           13           82      9587                  33            2   \n",
       "\n",
       "    product  mean_CTA_len  target_audience  \n",
       "2        11            23               16  \n",
       "3         9            24               10  \n",
       "8        26            34               13  \n",
       "9         9            28                6  \n",
       "12        9            27               15  "
      ]
     },
     "execution_count": 19,
     "metadata": {},
     "output_type": "execute_result"
    }
   ],
   "source": [
    "X=data_filtered.drop(['sender','is_weekend','times_of_day',\n",
    "       'category','no_of_CTA','is_image',\n",
    "       'is_personalised', 'is_quote', 'is_timer', 'is_emoticons',\n",
    "       'is_discount', 'is_price', 'is_urgency','click_rate' ],axis=1)\n",
    "X.head()"
   ]
  },
  {
   "cell_type": "markdown",
   "metadata": {
    "id": "CI-HHFj8QPiI"
   },
   "source": [
    "**Train_Test_split**"
   ]
  },
  {
   "cell_type": "code",
   "execution_count": 20,
   "metadata": {
    "id": "TdTwl-zAIU1g"
   },
   "outputs": [],
   "source": [
    "from sklearn.model_selection import train_test_split\n",
    "X_train, X_test, y_train, y_test = train_test_split(X,y,test_size=0.2,random_state=42)\n"
   ]
  },
  {
   "cell_type": "markdown",
   "metadata": {
    "id": "p5mqLZ9uQYdn"
   },
   "source": [
    "**standardization**"
   ]
  },
  {
   "cell_type": "code",
   "execution_count": 21,
   "metadata": {
    "id": "U5M7fZd_J5Ym"
   },
   "outputs": [],
   "source": [
    "from sklearn.preprocessing import StandardScaler\n",
    "sc=StandardScaler()\n",
    "sc.fit(X_train)\n",
    "X_train_sc= sc.transform(X_train)\n",
    "X_test_sc= sc.transform(X_test)"
   ]
  },
  {
   "cell_type": "markdown",
   "metadata": {
    "id": "S1eJdBWcQpYm"
   },
   "source": [
    "**Model Selection**"
   ]
  },
  {
   "cell_type": "code",
   "execution_count": 22,
   "metadata": {
    "colab": {
     "base_uri": "https://localhost:8080/",
     "height": 74
    },
    "id": "xm10dxWCMLxu",
    "outputId": "d175f25b-b42b-45a9-dbe5-86b988dcf0bd"
   },
   "outputs": [
    {
     "data": {
      "text/html": [
       "<style>#sk-container-id-1 {color: black;}#sk-container-id-1 pre{padding: 0;}#sk-container-id-1 div.sk-toggleable {background-color: white;}#sk-container-id-1 label.sk-toggleable__label {cursor: pointer;display: block;width: 100%;margin-bottom: 0;padding: 0.3em;box-sizing: border-box;text-align: center;}#sk-container-id-1 label.sk-toggleable__label-arrow:before {content: \"▸\";float: left;margin-right: 0.25em;color: #696969;}#sk-container-id-1 label.sk-toggleable__label-arrow:hover:before {color: black;}#sk-container-id-1 div.sk-estimator:hover label.sk-toggleable__label-arrow:before {color: black;}#sk-container-id-1 div.sk-toggleable__content {max-height: 0;max-width: 0;overflow: hidden;text-align: left;background-color: #f0f8ff;}#sk-container-id-1 div.sk-toggleable__content pre {margin: 0.2em;color: black;border-radius: 0.25em;background-color: #f0f8ff;}#sk-container-id-1 input.sk-toggleable__control:checked~div.sk-toggleable__content {max-height: 200px;max-width: 100%;overflow: auto;}#sk-container-id-1 input.sk-toggleable__control:checked~label.sk-toggleable__label-arrow:before {content: \"▾\";}#sk-container-id-1 div.sk-estimator input.sk-toggleable__control:checked~label.sk-toggleable__label {background-color: #d4ebff;}#sk-container-id-1 div.sk-label input.sk-toggleable__control:checked~label.sk-toggleable__label {background-color: #d4ebff;}#sk-container-id-1 input.sk-hidden--visually {border: 0;clip: rect(1px 1px 1px 1px);clip: rect(1px, 1px, 1px, 1px);height: 1px;margin: -1px;overflow: hidden;padding: 0;position: absolute;width: 1px;}#sk-container-id-1 div.sk-estimator {font-family: monospace;background-color: #f0f8ff;border: 1px dotted black;border-radius: 0.25em;box-sizing: border-box;margin-bottom: 0.5em;}#sk-container-id-1 div.sk-estimator:hover {background-color: #d4ebff;}#sk-container-id-1 div.sk-parallel-item::after {content: \"\";width: 100%;border-bottom: 1px solid gray;flex-grow: 1;}#sk-container-id-1 div.sk-label:hover label.sk-toggleable__label {background-color: #d4ebff;}#sk-container-id-1 div.sk-serial::before {content: \"\";position: absolute;border-left: 1px solid gray;box-sizing: border-box;top: 0;bottom: 0;left: 50%;z-index: 0;}#sk-container-id-1 div.sk-serial {display: flex;flex-direction: column;align-items: center;background-color: white;padding-right: 0.2em;padding-left: 0.2em;position: relative;}#sk-container-id-1 div.sk-item {position: relative;z-index: 1;}#sk-container-id-1 div.sk-parallel {display: flex;align-items: stretch;justify-content: center;background-color: white;position: relative;}#sk-container-id-1 div.sk-item::before, #sk-container-id-1 div.sk-parallel-item::before {content: \"\";position: absolute;border-left: 1px solid gray;box-sizing: border-box;top: 0;bottom: 0;left: 50%;z-index: -1;}#sk-container-id-1 div.sk-parallel-item {display: flex;flex-direction: column;z-index: 1;position: relative;background-color: white;}#sk-container-id-1 div.sk-parallel-item:first-child::after {align-self: flex-end;width: 50%;}#sk-container-id-1 div.sk-parallel-item:last-child::after {align-self: flex-start;width: 50%;}#sk-container-id-1 div.sk-parallel-item:only-child::after {width: 0;}#sk-container-id-1 div.sk-dashed-wrapped {border: 1px dashed gray;margin: 0 0.4em 0.5em 0.4em;box-sizing: border-box;padding-bottom: 0.4em;background-color: white;}#sk-container-id-1 div.sk-label label {font-family: monospace;font-weight: bold;display: inline-block;line-height: 1.2em;}#sk-container-id-1 div.sk-label-container {text-align: center;}#sk-container-id-1 div.sk-container {/* jupyter's `normalize.less` sets `[hidden] { display: none; }` but bootstrap.min.css set `[hidden] { display: none !important; }` so we also need the `!important` here to be able to override the default hidden behavior on the sphinx rendered scikit-learn.org. See: https://github.com/scikit-learn/scikit-learn/issues/21755 */display: inline-block !important;position: relative;}#sk-container-id-1 div.sk-text-repr-fallback {display: none;}</style><div id=\"sk-container-id-1\" class=\"sk-top-container\"><div class=\"sk-text-repr-fallback\"><pre>RandomForestRegressor()</pre><b>In a Jupyter environment, please rerun this cell to show the HTML representation or trust the notebook. <br />On GitHub, the HTML representation is unable to render, please try loading this page with nbviewer.org.</b></div><div class=\"sk-container\" hidden><div class=\"sk-item\"><div class=\"sk-estimator sk-toggleable\"><input class=\"sk-toggleable__control sk-hidden--visually\" id=\"sk-estimator-id-1\" type=\"checkbox\" checked><label for=\"sk-estimator-id-1\" class=\"sk-toggleable__label sk-toggleable__label-arrow\">RandomForestRegressor</label><div class=\"sk-toggleable__content\"><pre>RandomForestRegressor()</pre></div></div></div></div></div>"
      ],
      "text/plain": [
       "RandomForestRegressor()"
      ]
     },
     "execution_count": 22,
     "metadata": {},
     "output_type": "execute_result"
    }
   ],
   "source": [
    "from sklearn.ensemble import RandomForestRegressor\n",
    "rfg=RandomForestRegressor()\n",
    "rfg.fit(X_train_sc,y_train)\n"
   ]
  },
  {
   "cell_type": "markdown",
   "metadata": {
    "id": "4D1PZgAmQuau"
   },
   "source": [
    "**Model Evaluation**"
   ]
  },
  {
   "cell_type": "code",
   "execution_count": 23,
   "metadata": {
    "colab": {
     "base_uri": "https://localhost:8080/"
    },
    "id": "ctDgAW1SMjOu",
    "outputId": "fe4a6b04-7a78-4350-e530-30daa62ad9ae"
   },
   "outputs": [
    {
     "data": {
      "text/plain": [
       "array([0.0036065 , 0.0071269 , 0.02944694, 0.01096312, 0.03524016])"
      ]
     },
     "execution_count": 23,
     "metadata": {},
     "output_type": "execute_result"
    }
   ],
   "source": [
    "y_pred=rfg.predict(X_test_sc)\n",
    "y_pred[:5]"
   ]
  },
  {
   "cell_type": "code",
   "execution_count": 24,
   "metadata": {
    "colab": {
     "base_uri": "https://localhost:8080/"
    },
    "id": "tse4iXgGOUUs",
    "outputId": "f3993130-2292-463d-9589-7a4191d4905e"
   },
   "outputs": [
    {
     "data": {
      "text/plain": [
       "0.8862442150168136"
      ]
     },
     "execution_count": 24,
     "metadata": {},
     "output_type": "execute_result"
    }
   ],
   "source": [
    "rfg.score(X_train_sc,y_train)"
   ]
  },
  {
   "cell_type": "code",
   "execution_count": 25,
   "metadata": {
    "colab": {
     "base_uri": "https://localhost:8080/"
    },
    "id": "uS_A7ibEOVRu",
    "outputId": "b3e348ae-1db9-4657-a1a4-fef8ef7d1749"
   },
   "outputs": [
    {
     "data": {
      "text/plain": [
       "0.32996869741837265"
      ]
     },
     "execution_count": 25,
     "metadata": {},
     "output_type": "execute_result"
    }
   ],
   "source": [
    "rfg.score(X_test_sc,y_test)"
   ]
  },
  {
   "cell_type": "code",
   "execution_count": 26,
   "metadata": {
    "colab": {
     "base_uri": "https://localhost:8080/"
    },
    "id": "qKoMw-qnMvYj",
    "outputId": "02376f5e-38b4-423a-8caa-b9f1b3af99bf"
   },
   "outputs": [
    {
     "name": "stdout",
     "output_type": "stream",
     "text": [
      "Mean Squared Error (MSE): 0.00018759367504509142\n",
      "R-squared (R2): 0.32996869741837265\n"
     ]
    }
   ],
   "source": [
    "from sklearn.metrics import mean_squared_error\n",
    "from sklearn.metrics import r2_score\n",
    "# Calculate evaluation metrics\n",
    "mse = mean_squared_error(y_test, y_pred)\n",
    "r2 = r2_score(y_test, y_pred)\n",
    "\n",
    "# Print the evaluation metrics\n",
    "print(\"Mean Squared Error (MSE):\", mse)\n",
    "print(\"R-squared (R2):\", r2)"
   ]
  },
  {
   "cell_type": "markdown",
   "metadata": {
    "id": "PYpxlHG5HGjD"
   },
   "source": [
    "**Hyperparameter Tuning**"
   ]
  },
  {
   "cell_type": "code",
   "execution_count": 27,
   "metadata": {
    "id": "ckRfWNpMN8Zi"
   },
   "outputs": [],
   "source": [
    "paras = {\n",
    "    'n_estimators':[5,10,20,50,100],\n",
    "    'criterion':['squared_error','absolute_error', 'poisson'],\n",
    "    'max_depth': [None,4,5,10],\n",
    "    'min_samples_split': [2, 5, 10],\n",
    "    'min_samples_leaf': [1, 2, 4],\n",
    "}"
   ]
  },
  {
   "cell_type": "code",
   "execution_count": 28,
   "metadata": {
    "id": "HgfYuUQrPGPc"
   },
   "outputs": [],
   "source": [
    "from sklearn.model_selection import GridSearchCV\n",
    "grid_search = GridSearchCV(RandomForestRegressor(), paras)"
   ]
  },
  {
   "cell_type": "code",
   "execution_count": 29,
   "metadata": {
    "colab": {
     "base_uri": "https://localhost:8080/",
     "height": 117
    },
    "id": "a94YOIlrIrDN",
    "outputId": "b636e611-93af-4228-9b7f-ca38e9ecaaa3"
   },
   "outputs": [
    {
     "data": {
      "text/html": [
       "<style>#sk-container-id-2 {color: black;}#sk-container-id-2 pre{padding: 0;}#sk-container-id-2 div.sk-toggleable {background-color: white;}#sk-container-id-2 label.sk-toggleable__label {cursor: pointer;display: block;width: 100%;margin-bottom: 0;padding: 0.3em;box-sizing: border-box;text-align: center;}#sk-container-id-2 label.sk-toggleable__label-arrow:before {content: \"▸\";float: left;margin-right: 0.25em;color: #696969;}#sk-container-id-2 label.sk-toggleable__label-arrow:hover:before {color: black;}#sk-container-id-2 div.sk-estimator:hover label.sk-toggleable__label-arrow:before {color: black;}#sk-container-id-2 div.sk-toggleable__content {max-height: 0;max-width: 0;overflow: hidden;text-align: left;background-color: #f0f8ff;}#sk-container-id-2 div.sk-toggleable__content pre {margin: 0.2em;color: black;border-radius: 0.25em;background-color: #f0f8ff;}#sk-container-id-2 input.sk-toggleable__control:checked~div.sk-toggleable__content {max-height: 200px;max-width: 100%;overflow: auto;}#sk-container-id-2 input.sk-toggleable__control:checked~label.sk-toggleable__label-arrow:before {content: \"▾\";}#sk-container-id-2 div.sk-estimator input.sk-toggleable__control:checked~label.sk-toggleable__label {background-color: #d4ebff;}#sk-container-id-2 div.sk-label input.sk-toggleable__control:checked~label.sk-toggleable__label {background-color: #d4ebff;}#sk-container-id-2 input.sk-hidden--visually {border: 0;clip: rect(1px 1px 1px 1px);clip: rect(1px, 1px, 1px, 1px);height: 1px;margin: -1px;overflow: hidden;padding: 0;position: absolute;width: 1px;}#sk-container-id-2 div.sk-estimator {font-family: monospace;background-color: #f0f8ff;border: 1px dotted black;border-radius: 0.25em;box-sizing: border-box;margin-bottom: 0.5em;}#sk-container-id-2 div.sk-estimator:hover {background-color: #d4ebff;}#sk-container-id-2 div.sk-parallel-item::after {content: \"\";width: 100%;border-bottom: 1px solid gray;flex-grow: 1;}#sk-container-id-2 div.sk-label:hover label.sk-toggleable__label {background-color: #d4ebff;}#sk-container-id-2 div.sk-serial::before {content: \"\";position: absolute;border-left: 1px solid gray;box-sizing: border-box;top: 0;bottom: 0;left: 50%;z-index: 0;}#sk-container-id-2 div.sk-serial {display: flex;flex-direction: column;align-items: center;background-color: white;padding-right: 0.2em;padding-left: 0.2em;position: relative;}#sk-container-id-2 div.sk-item {position: relative;z-index: 1;}#sk-container-id-2 div.sk-parallel {display: flex;align-items: stretch;justify-content: center;background-color: white;position: relative;}#sk-container-id-2 div.sk-item::before, #sk-container-id-2 div.sk-parallel-item::before {content: \"\";position: absolute;border-left: 1px solid gray;box-sizing: border-box;top: 0;bottom: 0;left: 50%;z-index: -1;}#sk-container-id-2 div.sk-parallel-item {display: flex;flex-direction: column;z-index: 1;position: relative;background-color: white;}#sk-container-id-2 div.sk-parallel-item:first-child::after {align-self: flex-end;width: 50%;}#sk-container-id-2 div.sk-parallel-item:last-child::after {align-self: flex-start;width: 50%;}#sk-container-id-2 div.sk-parallel-item:only-child::after {width: 0;}#sk-container-id-2 div.sk-dashed-wrapped {border: 1px dashed gray;margin: 0 0.4em 0.5em 0.4em;box-sizing: border-box;padding-bottom: 0.4em;background-color: white;}#sk-container-id-2 div.sk-label label {font-family: monospace;font-weight: bold;display: inline-block;line-height: 1.2em;}#sk-container-id-2 div.sk-label-container {text-align: center;}#sk-container-id-2 div.sk-container {/* jupyter's `normalize.less` sets `[hidden] { display: none; }` but bootstrap.min.css set `[hidden] { display: none !important; }` so we also need the `!important` here to be able to override the default hidden behavior on the sphinx rendered scikit-learn.org. See: https://github.com/scikit-learn/scikit-learn/issues/21755 */display: inline-block !important;position: relative;}#sk-container-id-2 div.sk-text-repr-fallback {display: none;}</style><div id=\"sk-container-id-2\" class=\"sk-top-container\"><div class=\"sk-text-repr-fallback\"><pre>GridSearchCV(estimator=RandomForestRegressor(),\n",
       "             param_grid={&#x27;criterion&#x27;: [&#x27;squared_error&#x27;, &#x27;absolute_error&#x27;,\n",
       "                                       &#x27;poisson&#x27;],\n",
       "                         &#x27;max_depth&#x27;: [None, 4, 5, 10],\n",
       "                         &#x27;min_samples_leaf&#x27;: [1, 2, 4],\n",
       "                         &#x27;min_samples_split&#x27;: [2, 5, 10],\n",
       "                         &#x27;n_estimators&#x27;: [5, 10, 20, 50, 100]})</pre><b>In a Jupyter environment, please rerun this cell to show the HTML representation or trust the notebook. <br />On GitHub, the HTML representation is unable to render, please try loading this page with nbviewer.org.</b></div><div class=\"sk-container\" hidden><div class=\"sk-item sk-dashed-wrapped\"><div class=\"sk-label-container\"><div class=\"sk-label sk-toggleable\"><input class=\"sk-toggleable__control sk-hidden--visually\" id=\"sk-estimator-id-2\" type=\"checkbox\" ><label for=\"sk-estimator-id-2\" class=\"sk-toggleable__label sk-toggleable__label-arrow\">GridSearchCV</label><div class=\"sk-toggleable__content\"><pre>GridSearchCV(estimator=RandomForestRegressor(),\n",
       "             param_grid={&#x27;criterion&#x27;: [&#x27;squared_error&#x27;, &#x27;absolute_error&#x27;,\n",
       "                                       &#x27;poisson&#x27;],\n",
       "                         &#x27;max_depth&#x27;: [None, 4, 5, 10],\n",
       "                         &#x27;min_samples_leaf&#x27;: [1, 2, 4],\n",
       "                         &#x27;min_samples_split&#x27;: [2, 5, 10],\n",
       "                         &#x27;n_estimators&#x27;: [5, 10, 20, 50, 100]})</pre></div></div></div><div class=\"sk-parallel\"><div class=\"sk-parallel-item\"><div class=\"sk-item\"><div class=\"sk-label-container\"><div class=\"sk-label sk-toggleable\"><input class=\"sk-toggleable__control sk-hidden--visually\" id=\"sk-estimator-id-3\" type=\"checkbox\" ><label for=\"sk-estimator-id-3\" class=\"sk-toggleable__label sk-toggleable__label-arrow\">estimator: RandomForestRegressor</label><div class=\"sk-toggleable__content\"><pre>RandomForestRegressor()</pre></div></div></div><div class=\"sk-serial\"><div class=\"sk-item\"><div class=\"sk-estimator sk-toggleable\"><input class=\"sk-toggleable__control sk-hidden--visually\" id=\"sk-estimator-id-4\" type=\"checkbox\" ><label for=\"sk-estimator-id-4\" class=\"sk-toggleable__label sk-toggleable__label-arrow\">RandomForestRegressor</label><div class=\"sk-toggleable__content\"><pre>RandomForestRegressor()</pre></div></div></div></div></div></div></div></div></div></div>"
      ],
      "text/plain": [
       "GridSearchCV(estimator=RandomForestRegressor(),\n",
       "             param_grid={'criterion': ['squared_error', 'absolute_error',\n",
       "                                       'poisson'],\n",
       "                         'max_depth': [None, 4, 5, 10],\n",
       "                         'min_samples_leaf': [1, 2, 4],\n",
       "                         'min_samples_split': [2, 5, 10],\n",
       "                         'n_estimators': [5, 10, 20, 50, 100]})"
      ]
     },
     "execution_count": 29,
     "metadata": {},
     "output_type": "execute_result"
    }
   ],
   "source": [
    "grid_search.fit(X_train_sc,y_train)"
   ]
  },
  {
   "cell_type": "code",
   "execution_count": 30,
   "metadata": {
    "colab": {
     "base_uri": "https://localhost:8080/"
    },
    "id": "0ksrDSDXPR29",
    "outputId": "d81efcb0-5284-4d5e-e04f-f511d458ee5a"
   },
   "outputs": [
    {
     "data": {
      "text/plain": [
       "{'criterion': 'poisson',\n",
       " 'max_depth': None,\n",
       " 'min_samples_leaf': 1,\n",
       " 'min_samples_split': 10,\n",
       " 'n_estimators': 100}"
      ]
     },
     "execution_count": 30,
     "metadata": {},
     "output_type": "execute_result"
    }
   ],
   "source": [
    "grid_search.best_params_"
   ]
  },
  {
   "cell_type": "code",
   "execution_count": 31,
   "metadata": {
    "colab": {
     "base_uri": "https://localhost:8080/",
     "height": 74
    },
    "id": "7EKVvQo3IV7L",
    "outputId": "22d6031f-4a8e-4b81-d931-2014bdf559a0"
   },
   "outputs": [
    {
     "data": {
      "text/html": [
       "<style>#sk-container-id-3 {color: black;}#sk-container-id-3 pre{padding: 0;}#sk-container-id-3 div.sk-toggleable {background-color: white;}#sk-container-id-3 label.sk-toggleable__label {cursor: pointer;display: block;width: 100%;margin-bottom: 0;padding: 0.3em;box-sizing: border-box;text-align: center;}#sk-container-id-3 label.sk-toggleable__label-arrow:before {content: \"▸\";float: left;margin-right: 0.25em;color: #696969;}#sk-container-id-3 label.sk-toggleable__label-arrow:hover:before {color: black;}#sk-container-id-3 div.sk-estimator:hover label.sk-toggleable__label-arrow:before {color: black;}#sk-container-id-3 div.sk-toggleable__content {max-height: 0;max-width: 0;overflow: hidden;text-align: left;background-color: #f0f8ff;}#sk-container-id-3 div.sk-toggleable__content pre {margin: 0.2em;color: black;border-radius: 0.25em;background-color: #f0f8ff;}#sk-container-id-3 input.sk-toggleable__control:checked~div.sk-toggleable__content {max-height: 200px;max-width: 100%;overflow: auto;}#sk-container-id-3 input.sk-toggleable__control:checked~label.sk-toggleable__label-arrow:before {content: \"▾\";}#sk-container-id-3 div.sk-estimator input.sk-toggleable__control:checked~label.sk-toggleable__label {background-color: #d4ebff;}#sk-container-id-3 div.sk-label input.sk-toggleable__control:checked~label.sk-toggleable__label {background-color: #d4ebff;}#sk-container-id-3 input.sk-hidden--visually {border: 0;clip: rect(1px 1px 1px 1px);clip: rect(1px, 1px, 1px, 1px);height: 1px;margin: -1px;overflow: hidden;padding: 0;position: absolute;width: 1px;}#sk-container-id-3 div.sk-estimator {font-family: monospace;background-color: #f0f8ff;border: 1px dotted black;border-radius: 0.25em;box-sizing: border-box;margin-bottom: 0.5em;}#sk-container-id-3 div.sk-estimator:hover {background-color: #d4ebff;}#sk-container-id-3 div.sk-parallel-item::after {content: \"\";width: 100%;border-bottom: 1px solid gray;flex-grow: 1;}#sk-container-id-3 div.sk-label:hover label.sk-toggleable__label {background-color: #d4ebff;}#sk-container-id-3 div.sk-serial::before {content: \"\";position: absolute;border-left: 1px solid gray;box-sizing: border-box;top: 0;bottom: 0;left: 50%;z-index: 0;}#sk-container-id-3 div.sk-serial {display: flex;flex-direction: column;align-items: center;background-color: white;padding-right: 0.2em;padding-left: 0.2em;position: relative;}#sk-container-id-3 div.sk-item {position: relative;z-index: 1;}#sk-container-id-3 div.sk-parallel {display: flex;align-items: stretch;justify-content: center;background-color: white;position: relative;}#sk-container-id-3 div.sk-item::before, #sk-container-id-3 div.sk-parallel-item::before {content: \"\";position: absolute;border-left: 1px solid gray;box-sizing: border-box;top: 0;bottom: 0;left: 50%;z-index: -1;}#sk-container-id-3 div.sk-parallel-item {display: flex;flex-direction: column;z-index: 1;position: relative;background-color: white;}#sk-container-id-3 div.sk-parallel-item:first-child::after {align-self: flex-end;width: 50%;}#sk-container-id-3 div.sk-parallel-item:last-child::after {align-self: flex-start;width: 50%;}#sk-container-id-3 div.sk-parallel-item:only-child::after {width: 0;}#sk-container-id-3 div.sk-dashed-wrapped {border: 1px dashed gray;margin: 0 0.4em 0.5em 0.4em;box-sizing: border-box;padding-bottom: 0.4em;background-color: white;}#sk-container-id-3 div.sk-label label {font-family: monospace;font-weight: bold;display: inline-block;line-height: 1.2em;}#sk-container-id-3 div.sk-label-container {text-align: center;}#sk-container-id-3 div.sk-container {/* jupyter's `normalize.less` sets `[hidden] { display: none; }` but bootstrap.min.css set `[hidden] { display: none !important; }` so we also need the `!important` here to be able to override the default hidden behavior on the sphinx rendered scikit-learn.org. See: https://github.com/scikit-learn/scikit-learn/issues/21755 */display: inline-block !important;position: relative;}#sk-container-id-3 div.sk-text-repr-fallback {display: none;}</style><div id=\"sk-container-id-3\" class=\"sk-top-container\"><div class=\"sk-text-repr-fallback\"><pre>RandomForestRegressor(criterion=&#x27;poisson&#x27;, min_samples_leaf=4)</pre><b>In a Jupyter environment, please rerun this cell to show the HTML representation or trust the notebook. <br />On GitHub, the HTML representation is unable to render, please try loading this page with nbviewer.org.</b></div><div class=\"sk-container\" hidden><div class=\"sk-item\"><div class=\"sk-estimator sk-toggleable\"><input class=\"sk-toggleable__control sk-hidden--visually\" id=\"sk-estimator-id-5\" type=\"checkbox\" checked><label for=\"sk-estimator-id-5\" class=\"sk-toggleable__label sk-toggleable__label-arrow\">RandomForestRegressor</label><div class=\"sk-toggleable__content\"><pre>RandomForestRegressor(criterion=&#x27;poisson&#x27;, min_samples_leaf=4)</pre></div></div></div></div></div>"
      ],
      "text/plain": [
       "RandomForestRegressor(criterion='poisson', min_samples_leaf=4)"
      ]
     },
     "execution_count": 31,
     "metadata": {},
     "output_type": "execute_result"
    }
   ],
   "source": [
    "gscv=RandomForestRegressor(criterion= 'poisson',max_depth=None,min_samples_leaf=4,min_samples_split= 2,n_estimators=100)\n",
    "gscv.fit(X_train_sc,y_train)"
   ]
  },
  {
   "cell_type": "markdown",
   "metadata": {
    "id": "XU6-eq1EPrjv"
   },
   "source": [
    "**model evaluation after tuning**"
   ]
  },
  {
   "cell_type": "code",
   "execution_count": 32,
   "metadata": {
    "colab": {
     "base_uri": "https://localhost:8080/"
    },
    "id": "8mPQkJqxOt54",
    "outputId": "c4d63e22-d3df-46ca-c171-dbf56168e827"
   },
   "outputs": [
    {
     "data": {
      "text/plain": [
       "array([0.00396544, 0.006517  , 0.03407097, 0.01130742, 0.03598473])"
      ]
     },
     "execution_count": 32,
     "metadata": {},
     "output_type": "execute_result"
    }
   ],
   "source": [
    "y_pred_gscv=gscv.predict(X_test_sc)\n",
    "y_pred_gscv[:5]"
   ]
  },
  {
   "cell_type": "code",
   "execution_count": 33,
   "metadata": {
    "colab": {
     "base_uri": "https://localhost:8080/"
    },
    "id": "lpAXbC2KORW9",
    "outputId": "d59d8d6c-72e6-43c4-9a62-0bffd4628853"
   },
   "outputs": [
    {
     "data": {
      "text/plain": [
       "0.6728865786715745"
      ]
     },
     "execution_count": 33,
     "metadata": {},
     "output_type": "execute_result"
    }
   ],
   "source": [
    "gscv.score(X_train_sc,y_train)"
   ]
  },
  {
   "cell_type": "code",
   "execution_count": 34,
   "metadata": {
    "colab": {
     "base_uri": "https://localhost:8080/"
    },
    "id": "dt0Ie6IgOaUh",
    "outputId": "31004409-cfea-44d9-bb93-45777fa3e890"
   },
   "outputs": [
    {
     "data": {
      "text/plain": [
       "0.3272656090292966"
      ]
     },
     "execution_count": 34,
     "metadata": {},
     "output_type": "execute_result"
    }
   ],
   "source": [
    "gscv.score(X_test_sc,y_test)"
   ]
  },
  {
   "cell_type": "code",
   "execution_count": 35,
   "metadata": {
    "colab": {
     "base_uri": "https://localhost:8080/"
    },
    "id": "H24hJJ7qOgI3",
    "outputId": "b49cfd14-6370-4e92-bca7-e0d9ece27390"
   },
   "outputs": [
    {
     "data": {
      "text/plain": [
       "0.3272656090292966"
      ]
     },
     "execution_count": 35,
     "metadata": {},
     "output_type": "execute_result"
    }
   ],
   "source": [
    "r2 = r2_score(y_test, y_pred_gscv)\n",
    "r2"
   ]
  },
  {
   "cell_type": "markdown",
   "metadata": {
    "id": "vjdz-JrXSkXX"
   },
   "source": [
    "\n",
    "R-squared value increased from 0.32519 to 0.3530"
   ]
  },
  {
   "cell_type": "code",
   "execution_count": 36,
   "metadata": {
    "id": "j_uS_l4ES3R7"
   },
   "outputs": [],
   "source": [
    "import pickle"
   ]
  },
  {
   "cell_type": "code",
   "execution_count": 37,
   "metadata": {
    "id": "rKbe5asBxsen"
   },
   "outputs": [],
   "source": [
    "filename='final_model.pickle'\n",
    "pickle.dump(gscv,open(filename,'wb'))"
   ]
  },
  {
   "cell_type": "code",
   "execution_count": 38,
   "metadata": {},
   "outputs": [
    {
     "data": {
      "text/plain": [
       "array([0.00396544, 0.006517  , 0.03407097, 0.01130742, 0.03598473,\n",
       "       0.01943496, 0.02703794, 0.00702996, 0.01045357, 0.00733805,\n",
       "       0.02688469, 0.02229978, 0.00645211, 0.00476918, 0.01219189,\n",
       "       0.01533909, 0.00946919, 0.04764563, 0.01466792, 0.01637174,\n",
       "       0.00828449, 0.01277416, 0.04555743, 0.02322394, 0.0230363 ,\n",
       "       0.02989712, 0.01432171, 0.01346969, 0.02226551, 0.02077692,\n",
       "       0.01100953, 0.00809095, 0.009649  , 0.00634828, 0.00690827,\n",
       "       0.01345463, 0.02377798, 0.02321716, 0.01465485, 0.03655786,\n",
       "       0.00483654, 0.00478762, 0.01311902, 0.00707986, 0.03897483,\n",
       "       0.02173847, 0.01620035, 0.02255085, 0.00669776, 0.00720358,\n",
       "       0.00639127, 0.03740452, 0.02249755, 0.01133568, 0.03063899,\n",
       "       0.007626  , 0.0072551 , 0.0140661 , 0.0114511 , 0.01648298,\n",
       "       0.0119207 , 0.00699749, 0.01093087, 0.03221759, 0.00762634,\n",
       "       0.00886082, 0.01593009, 0.01236651, 0.00563541, 0.02139238,\n",
       "       0.00615868, 0.02401296, 0.00840971, 0.00681414, 0.01927871,\n",
       "       0.02999913, 0.00586004, 0.01057597, 0.01481764, 0.01576485,\n",
       "       0.01368727, 0.01009224, 0.04136757, 0.01233597, 0.01547289,\n",
       "       0.03871698, 0.01646678, 0.01897652, 0.01751953, 0.01430192,\n",
       "       0.01144051, 0.03111076, 0.0165291 , 0.01842019, 0.01692046,\n",
       "       0.01991066, 0.0294685 , 0.0163818 , 0.00449498, 0.02401732,\n",
       "       0.01282522, 0.00973882, 0.00880792, 0.00720296, 0.02765728,\n",
       "       0.00825757, 0.00466839, 0.03717309, 0.01388695, 0.01275999,\n",
       "       0.0324991 , 0.02572937, 0.02042553, 0.03101694, 0.00590987,\n",
       "       0.01371728, 0.02853767, 0.01671198, 0.01027902, 0.0187571 ,\n",
       "       0.00752005, 0.03687472, 0.0070619 , 0.01712713, 0.00711206,\n",
       "       0.00355181, 0.0157379 , 0.01745822, 0.01437925, 0.0135374 ,\n",
       "       0.01005073, 0.00811168, 0.01176919, 0.01622657, 0.02508795,\n",
       "       0.00767127, 0.01004446, 0.0097095 , 0.02033171, 0.00797883,\n",
       "       0.01053041, 0.02626474, 0.01408728, 0.03937927, 0.01657596,\n",
       "       0.01213314, 0.00898496, 0.0277407 , 0.01211302, 0.00984289,\n",
       "       0.01763724, 0.0098522 , 0.01740686, 0.01073999, 0.01041908,\n",
       "       0.03818454, 0.02170129, 0.00758849, 0.02893237, 0.00633597,\n",
       "       0.01218747, 0.00772134, 0.00811941, 0.00664443, 0.02624474,\n",
       "       0.02496425, 0.0417923 , 0.00787231, 0.01230317, 0.00866514,\n",
       "       0.02314013, 0.01886893, 0.01773902, 0.01097809, 0.01570294,\n",
       "       0.00741102, 0.01828568, 0.02406837, 0.00803762, 0.00861926,\n",
       "       0.0068632 , 0.00520059, 0.01560973, 0.00914927, 0.01529559,\n",
       "       0.00823804, 0.02201583, 0.01740465, 0.00782089, 0.0072024 ,\n",
       "       0.00685098, 0.01873186, 0.03230263, 0.03542165, 0.00952765,\n",
       "       0.00890428, 0.02741117, 0.00693073, 0.02082531, 0.0060619 ,\n",
       "       0.01238404, 0.00585835, 0.01098215, 0.00987886, 0.00865556,\n",
       "       0.01302574, 0.00732531, 0.0077062 , 0.02697204, 0.01483022,\n",
       "       0.02404123, 0.02143542, 0.0064035 , 0.01387799, 0.0246737 ,\n",
       "       0.02844562, 0.04506856, 0.03549801, 0.01771096, 0.01163965,\n",
       "       0.01294611, 0.003399  , 0.00561223, 0.01793984, 0.01046343,\n",
       "       0.01895698, 0.00439382, 0.03701924, 0.01384266, 0.01820553,\n",
       "       0.01479459, 0.01379215, 0.01521649, 0.0083651 , 0.00672096,\n",
       "       0.01365257, 0.02861091, 0.01146317, 0.02407335, 0.01013419,\n",
       "       0.01158971, 0.01113919, 0.00454304, 0.01491007, 0.01519572,\n",
       "       0.01448479, 0.02393173, 0.01376217, 0.01167703, 0.01641805,\n",
       "       0.01329557, 0.02004069, 0.01815398, 0.03220845, 0.01510738,\n",
       "       0.00891478, 0.01545532, 0.01398597, 0.02101644, 0.0183379 ,\n",
       "       0.00609314, 0.04080449, 0.02777802, 0.00522547, 0.00700394,\n",
       "       0.00848134, 0.01833909, 0.01374291, 0.01144034, 0.02669201,\n",
       "       0.02052912, 0.01079616, 0.01789681, 0.01388673, 0.01179042,\n",
       "       0.03242349, 0.00926686, 0.00734359, 0.00704591, 0.01838803,\n",
       "       0.01167504, 0.0197694 , 0.00935457, 0.01404406, 0.01228442,\n",
       "       0.01127056, 0.02538044, 0.01685002, 0.00771292, 0.01345503,\n",
       "       0.00898738, 0.01001167, 0.02154899, 0.0070758 , 0.0166604 ,\n",
       "       0.02069326, 0.0269729 , 0.01037135, 0.00846164, 0.03247625,\n",
       "       0.0060739 , 0.01408906, 0.00855444, 0.01473912, 0.02641423,\n",
       "       0.00815133, 0.00761482, 0.00770742, 0.0236987 , 0.00645849,\n",
       "       0.03531201, 0.01441023, 0.01118431, 0.01637243, 0.01117809,\n",
       "       0.01199816, 0.02136778, 0.02438173, 0.020962  , 0.00943665,\n",
       "       0.01143961, 0.0133609 , 0.0107885 , 0.01559911])"
      ]
     },
     "execution_count": 38,
     "metadata": {},
     "output_type": "execute_result"
    }
   ],
   "source": [
    "loaded_model=pickle.load(open(filename,'rb'))\n",
    "a=loaded_model.predict(X_test_sc)\n",
    "a"
   ]
  },
  {
   "cell_type": "code",
   "execution_count": null,
   "metadata": {},
   "outputs": [],
   "source": []
  }
 ],
 "metadata": {
  "colab": {
   "provenance": []
  },
  "kernelspec": {
   "display_name": "Python 3",
   "language": "python",
   "name": "python3"
  },
  "language_info": {
   "codemirror_mode": {
    "name": "ipython",
    "version": 3
   },
   "file_extension": ".py",
   "mimetype": "text/x-python",
   "name": "python",
   "nbconvert_exporter": "python",
   "pygments_lexer": "ipython3",
   "version": "3.8.8"
  }
 },
 "nbformat": 4,
 "nbformat_minor": 1
}
